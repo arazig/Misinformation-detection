{
 "cells": [
  {
   "cell_type": "markdown",
   "id": "afa57809",
   "metadata": {},
   "source": [
    "# NLP Project: Misinformation detection (test with BERT feature extractor)\n",
    "\n",
    "<div style=\"text-align: center;\">\n",
    "    <img src=\"image/fake_news.jpeg\" alt=\"Exemple d'image\" style=\"width: 30%;\"/>\n",
    "</div>\n",
    "\n",
    "---\n",
    "\n"
   ]
  },
  {
   "cell_type": "markdown",
   "id": "106591e9",
   "metadata": {},
   "source": [
    "\n"
   ]
  },
  {
   "cell_type": "code",
   "execution_count": 8,
   "id": "81ae9b5d",
   "metadata": {},
   "outputs": [],
   "source": [
    "import matplotlib.pyplot as plt\n",
    "import numpy as np\n",
    "import pandas as pd\n",
    "import seaborn as sns\n",
    "\n",
    "import torch\n",
    "from transformers import DistilBertTokenizer, DistilBertModel\n",
    "from sklearn.model_selection import train_test_split\n",
    "from sklearn.preprocessing import LabelEncoder\n",
    "from sklearn.linear_model import LogisticRegression\n",
    "from sklearn.metrics import classification_report, accuracy_score\n",
    "import pickle"
   ]
  },
  {
   "cell_type": "markdown",
   "id": "75ae5bbe",
   "metadata": {},
   "source": [
    "# Présenation : \n",
    "\n",
    "<div style=\"text-align: center;\">\n",
    "    <img src=\"image/illustration2.png\" alt=\"Exemple d'image\" style=\"width: 50%;\"/>\n",
    "</div>\n",
    "\n",
    "\n",
    "**Objectif** : Transformer les textes en une représentation numérique : \n",
    "\n",
    "    - Sentence embeddings (BERT, RoBERTa)"
   ]
  },
  {
   "cell_type": "markdown",
   "id": "03071a39",
   "metadata": {},
   "source": [
    "## Étape 1 : Analyse exploratoire des données (EDA)"
   ]
  },
  {
   "cell_type": "code",
   "execution_count": 2,
   "id": "6d2fe22c",
   "metadata": {},
   "outputs": [
    {
     "name": "stdout",
     "output_type": "stream",
     "text": [
      "Fake news dataset:\n",
      "<class 'pandas.core.frame.DataFrame'>\n",
      "RangeIndex: 23481 entries, 0 to 23480\n",
      "Data columns (total 5 columns):\n",
      " #   Column   Non-Null Count  Dtype \n",
      "---  ------   --------------  ----- \n",
      " 0   title    23481 non-null  object\n",
      " 1   text     23481 non-null  object\n",
      " 2   subject  23481 non-null  object\n",
      " 3   date     23481 non-null  object\n",
      " 4   label    23481 non-null  object\n",
      "dtypes: object(5)\n",
      "memory usage: 917.4+ KB\n",
      "None\n",
      "\n",
      "True news dataset:\n",
      "<class 'pandas.core.frame.DataFrame'>\n",
      "RangeIndex: 21417 entries, 0 to 21416\n",
      "Data columns (total 5 columns):\n",
      " #   Column   Non-Null Count  Dtype \n",
      "---  ------   --------------  ----- \n",
      " 0   title    21417 non-null  object\n",
      " 1   text     21417 non-null  object\n",
      " 2   subject  21417 non-null  object\n",
      " 3   date     21417 non-null  object\n",
      " 4   label    21417 non-null  object\n",
      "dtypes: object(5)\n",
      "memory usage: 836.7+ KB\n",
      "None\n",
      "\n",
      "Combined dataset:\n",
      "label\n",
      "fake    23481\n",
      "true    21417\n",
      "Name: count, dtype: int64\n"
     ]
    },
    {
     "data": {
      "image/png": "[encoded data removed]",
      "text/plain": [
       "<Figure size 640x480 with 1 Axes>"
      ]
     },
     "metadata": {},
     "output_type": "display_data"
    }
   ],
   "source": [
    "from src.eda import load_and_explore_data\n",
    "\n",
    "data = load_and_explore_data('data/Fake.csv', 'data/True.csv')"
   ]
  },
  {
   "cell_type": "markdown",
   "id": "4bcd06eb",
   "metadata": {},
   "source": [
    "### Statistiques descriptives sur les longueurs"
   ]
  },
  {
   "cell_type": "markdown",
   "id": "9e5393dd",
   "metadata": {},
   "source": [
    "## Étape 2 : Prétraitement des données"
   ]
  },
  {
   "cell_type": "code",
   "execution_count": 3,
   "id": "7e6755aa",
   "metadata": {},
   "outputs": [
    {
     "name": "stderr",
     "output_type": "stream",
     "text": [
      "[nltk_data] Downloading package stopwords to\n",
      "[nltk_data]     /users/eleves-a/2024/amine.razig/nltk_data...\n",
      "[nltk_data]   Package stopwords is already up-to-date!\n",
      "[nltk_data] Downloading package wordnet to\n",
      "[nltk_data]     /users/eleves-a/2024/amine.razig/nltk_data...\n",
      "[nltk_data]   Package wordnet is already up-to-date!\n",
      "[nltk_data] Downloading package omw-1.4 to\n",
      "[nltk_data]     /users/eleves-a/2024/amine.razig/nltk_data...\n",
      "[nltk_data]   Package omw-1.4 is already up-to-date!\n"
     ]
    },
    {
     "name": "stdout",
     "output_type": "stream",
     "text": [
      "Exemple avant nettoyage :\n",
      "Donald Trump just couldn t wish all Americans a Happy New Year and leave it at that. Instead, he had to give a shout out to his enemies, haters and  the very dishonest fake news media.  The former reality show star had just one job to do and he couldn t do it. As our Country rapidly grows stronger and smarter, I want to wish all of my friends, supporters, enemies, haters, and even the very dishonest Fake News Media, a Happy and Healthy New Year,  President Angry Pants tweeted.  2018 will be a great year for America! As our Country rapidly grows stronger and smarter, I want to wish all of my friends, supporters, enemies, haters, and even the very dishonest Fake News Media, a Happy and Healthy New Year. 2018 will be a great year for America!  Donald J. Trump (@realDonaldTrump) December 31, 2017Trump s tweet went down about as welll as you d expect.What kind of president sends a New Year s greeting like this despicable, petty, infantile gibberish? Only Trump! His lack of decency won t even allow him to rise above the gutter long enough to wish the American citizens a happy new year!  Bishop Talbert Swan (@TalbertSwan) December 31, 2017no one likes you  Calvin (@calvinstowell) December 31, 2017Your impeachment would make 2018 a great year for America, but I ll also accept regaining control of Congress.  Miranda Yaver (@mirandayaver) December 31, 2017Do you hear yourself talk? When you have to include that many people that hate you you have to wonder? Why do the they all hate me?  Alan Sandoval (@AlanSandoval13) December 31, 2017Who uses the word Haters in a New Years wish??  Marlene (@marlene399) December 31, 2017You can t just say happy new year?  Koren pollitt (@Korencarpenter) December 31, 2017Here s Trump s New Year s Eve tweet from 2016.Happy New Year to all, including to my many enemies and those who have fought me and lost so badly they just don t know what to do. Love!  Donald J. Trump (@realDonaldTrump) December 31, 2016This is nothing new for Trump. He s been doing this for years.Trump has directed messages to his  enemies  and  haters  for New Year s, Easter, Thanksgiving, and the anniversary of 9/11. pic.twitter.com/4FPAe2KypA  Daniel Dale (@ddale8) December 31, 2017Trump s holiday tweets are clearly not presidential.How long did he work at Hallmark before becoming President?  Steven Goodine (@SGoodine) December 31, 2017He s always been like this . . . the only difference is that in the last few years, his filter has been breaking down.  Roy Schulze (@thbthttt) December 31, 2017Who, apart from a teenager uses the term haters?  Wendy (@WendyWhistles) December 31, 2017he s a fucking 5 year old  Who Knows (@rainyday80) December 31, 2017So, to all the people who voted for this a hole thinking he would change once he got into power, you were wrong! 70-year-old men don t change and now he s a year older.Photo by Andrew Burton/Getty Images.\n",
      "\n",
      "Exemple après nettoyage :\n",
      "donald trump wish american happy new year leave instead give shout enemy hater dishonest fake news medium former reality show star one job country rapidly grows stronger smarter want wish friend supporter enemy hater even dishonest fake news medium happy healthy new year president angry pant tweeted great year america country rapidly grows stronger smarter want wish friend supporter enemy hater even dishonest fake news medium happy healthy new year great year america donald j trump realdonaldtrump december trump tweet went welll expectwhat kind president sends new year greeting like despicable petty infantile gibberish trump lack decency even allow rise gutter long enough wish american citizen happy new year bishop talbert swan talbertswan december one like calvin calvinstowell december impeachment would make great year america also accept regaining control congress miranda yaver mirandayaver december hear talk include many people hate wonder hate alan sandoval alansandoval december us word hater new year wish marlene marlene december say happy new year koren pollitt korencarpenter december trump new year eve tweet happy new year including many enemy fought lost badly know love donald j trump realdonaldtrump december nothing new trump yearstrump directed message enemy hater new year easter thanksgiving anniversary pictwittercomfpaekypa daniel dale ddale december trump holiday tweet clearly presidentialhow long work hallmark becoming president steven goodine sgoodine december always like difference last year filter breaking roy schulze thbthttt december apart teenager us term hater wendy wendywhistles december fucking year old know rainyday december people voted hole thinking would change got power wrong yearold men change year olderphoto andrew burtongetty image\n"
     ]
    }
   ],
   "source": [
    "import re\n",
    "import nltk\n",
    "from nltk.corpus import stopwords\n",
    "from nltk.stem import WordNetLemmatizer\n",
    "\n",
    "# Télécharger les ressources nécessaires de NLTK\n",
    "nltk.download('stopwords')\n",
    "nltk.download('wordnet')\n",
    "nltk.download('omw-1.4')\n",
    "\n",
    "# Initialiser les stopwords et le lemmatizer\n",
    "stop_words = set(stopwords.words('english'))\n",
    "lemmatizer = WordNetLemmatizer()\n",
    "\n",
    "def preprocess_text(text):\n",
    "    # Convertir en minuscules\n",
    "    text = text.lower()\n",
    "    # Supprimer les caractères spéciaux et les chiffres\n",
    "    text = re.sub(r'[^a-z\\s]', '', text)\n",
    "    # Supprimer les stopwords et appliquer la lemmatisation\n",
    "    text = ' '.join([lemmatizer.lemmatize(word) for word in text.split() if word not in stop_words])\n",
    "    return text\n",
    "\n",
    "# Appliquer le prétraitement sur les colonnes 'title' et 'text'\n",
    "data['cleaned_title'] = data['title'].apply(preprocess_text)\n",
    "data['cleaned_text'] = data['text'].apply(preprocess_text)\n",
    "\n",
    "# Afficher un exemple avant et après le nettoyage\n",
    "print(\"Exemple avant nettoyage :\")\n",
    "print(data['text'].iloc[0])\n",
    "print(\"\\nExemple après nettoyage :\")\n",
    "print(data['cleaned_text'].iloc[0])"
   ]
  },
  {
   "cell_type": "markdown",
   "id": "b4f4ce2f",
   "metadata": {},
   "source": [
    "## Étape 3 : Représentation des textes **BERT**\n",
    "#### L'objectif est de transformer les textes en une représentation numérique. On test diffrentes approches : "
   ]
  },
  {
   "cell_type": "code",
   "execution_count": 9,
   "id": "337a27f0",
   "metadata": {},
   "outputs": [
    {
     "name": "stdout",
     "output_type": "stream",
     "text": [
      "Génération des embeddings...\n",
      "Embeddings sauvegardés.\n"
     ]
    }
   ],
   "source": [
    "# Charger le tokenizer et le modèle DistilBERT\n",
    "tokenizer = DistilBertTokenizer.from_pretrained('distilbert-base-uncased')\n",
    "bert_model = DistilBertModel.from_pretrained('distilbert-base-uncased')\n",
    "device = torch.device('cuda' if torch.cuda.is_available() else 'cpu')\n",
    "bert_model = bert_model.to(device)\n",
    "\n",
    "# Fonction pour obtenir les embeddings BERT par lots\n",
    "def get_bert_embeddings_batch(texts, batch_size=16):\n",
    "    embeddings = []\n",
    "    for i in range(0, len(texts), batch_size):\n",
    "        batch = texts[i:i+batch_size]\n",
    "        tokens = tokenizer(batch, return_tensors='pt', truncation=True, padding=True, max_length=128).to(device)\n",
    "        with torch.no_grad():\n",
    "            outputs = bert_model(**tokens)\n",
    "        embeddings.append(outputs.last_hidden_state[:, 0, :].cpu().numpy())  # CLS token\n",
    "    return np.vstack(embeddings)\n",
    "\n",
    "# Générer ou charger les embeddings\n",
    "embeddings_file = 'bert_embeddings.pkl'\n",
    "try:\n",
    "    with open(embeddings_file, 'rb') as f:\n",
    "        X = pickle.load(f)\n",
    "    print(\"Embeddings chargés depuis le fichier.\")\n",
    "except FileNotFoundError:\n",
    "    print(\"Génération des embeddings...\")\n",
    "    X = get_bert_embeddings_batch(data['cleaned_text'].tolist(), batch_size=16)\n",
    "    with open(embeddings_file, 'wb') as f:\n",
    "        pickle.dump(X, f)\n",
    "    print(\"Embeddings sauvegardés.\")"
   ]
  },
  {
   "cell_type": "code",
   "execution_count": 10,
   "id": "9950fbb0",
   "metadata": {},
   "outputs": [
    {
     "name": "stdout",
     "output_type": "stream",
     "text": [
      "Shape of X: (44898, 768)\n",
      "Length of y: 44898\n"
     ]
    }
   ],
   "source": [
    "from sklearn.preprocessing import LabelEncoder\n",
    "\n",
    "# Encodage des étiquettes\n",
    "label_encoder = LabelEncoder()\n",
    "y = label_encoder.fit_transform(data['label'])\n",
    "\n",
    "print(\"Shape of X:\", X.shape)\n",
    "print(\"Length of y:\", len(y))"
   ]
  },
  {
   "cell_type": "markdown",
   "id": "28df0146",
   "metadata": {},
   "source": [
    "## Étape 4 : Modélisation classique\n",
    "Objectif : Utiliser des modèles de machine learning classiques pour classifier les textes."
   ]
  },
  {
   "cell_type": "code",
   "execution_count": 11,
   "id": "2de2bfd4",
   "metadata": {},
   "outputs": [],
   "source": [
    "from sklearn.model_selection import train_test_split\n",
    "\n",
    "# Division des données\n",
    "X_train, X_test, y_train, y_test = train_test_split(X, y, test_size=0.2, random_state=42)"
   ]
  },
  {
   "cell_type": "code",
   "execution_count": 12,
   "id": "a55dec64",
   "metadata": {},
   "outputs": [
    {
     "name": "stdout",
     "output_type": "stream",
     "text": [
      "Logistic Regression Accuracy: 0.988641425389755\n",
      "\n",
      "Classification Report:\n",
      "               precision    recall  f1-score   support\n",
      "\n",
      "           0       0.99      0.99      0.99      4733\n",
      "           1       0.99      0.99      0.99      4247\n",
      "\n",
      "    accuracy                           0.99      8980\n",
      "   macro avg       0.99      0.99      0.99      8980\n",
      "weighted avg       0.99      0.99      0.99      8980\n",
      "\n"
     ]
    }
   ],
   "source": [
    "from sklearn.linear_model import LogisticRegression\n",
    "from sklearn.metrics import classification_report, accuracy_score\n",
    "\n",
    "# Régression logistique\n",
    "logistic_model = LogisticRegression(max_iter=1000)\n",
    "logistic_model.fit(X_train, y_train)\n",
    "y_pred = logistic_model.predict(X_test)\n",
    "\n",
    "# Évaluation\n",
    "print(\"Logistic Regression Accuracy:\", accuracy_score(y_test, y_pred))\n",
    "print(\"\\nClassification Report:\\n\", classification_report(y_test, y_pred))"
   ]
  },
  {
   "cell_type": "code",
   "execution_count": 13,
   "id": "36be35df",
   "metadata": {},
   "outputs": [
    {
     "name": "stdout",
     "output_type": "stream",
     "text": [
      "Logistic Regression Accuracy: 0.988641425389755\n",
      "\n",
      "Classification Report:\n",
      "               precision    recall  f1-score   support\n",
      "\n",
      "           0       0.99      0.99      0.99      4733\n",
      "           1       0.99      0.99      0.99      4247\n",
      "\n",
      "    accuracy                           0.99      8980\n",
      "   macro avg       0.99      0.99      0.99      8980\n",
      "weighted avg       0.99      0.99      0.99      8980\n",
      "\n",
      "Naive Bayes Accuracy: 0.8994432071269488\n",
      "\n",
      "Classification Report:\n",
      "               precision    recall  f1-score   support\n",
      "\n",
      "           0       0.89      0.93      0.91      4733\n",
      "           1       0.92      0.87      0.89      4247\n",
      "\n",
      "    accuracy                           0.90      8980\n",
      "   macro avg       0.90      0.90      0.90      8980\n",
      "weighted avg       0.90      0.90      0.90      8980\n",
      "\n",
      "SVM Accuracy: 0.993652561247216\n",
      "\n",
      "Classification Report:\n",
      "               precision    recall  f1-score   support\n",
      "\n",
      "           0       0.99      0.99      0.99      4733\n",
      "           1       0.99      0.99      0.99      4247\n",
      "\n",
      "    accuracy                           0.99      8980\n",
      "   macro avg       0.99      0.99      0.99      8980\n",
      "weighted avg       0.99      0.99      0.99      8980\n",
      "\n",
      "Random Forest Accuracy: 0.9587973273942093\n",
      "\n",
      "Classification Report:\n",
      "               precision    recall  f1-score   support\n",
      "\n",
      "           0       0.95      0.97      0.96      4733\n",
      "           1       0.97      0.95      0.96      4247\n",
      "\n",
      "    accuracy                           0.96      8980\n",
      "   macro avg       0.96      0.96      0.96      8980\n",
      "weighted avg       0.96      0.96      0.96      8980\n",
      "\n"
     ]
    }
   ],
   "source": [
    "from sklearn.linear_model import LogisticRegression\n",
    "from sklearn.naive_bayes import GaussianNB\n",
    "from sklearn.svm import LinearSVC\n",
    "from sklearn.ensemble import RandomForestClassifier\n",
    "from sklearn.metrics import classification_report, accuracy_score\n",
    "from sklearn.model_selection import train_test_split\n",
    "from sklearn.preprocessing import LabelEncoder\n",
    "\n",
    "\n",
    "# Régression logistique\n",
    "logistic_model = LogisticRegression(max_iter=1000)\n",
    "logistic_model.fit(X_train, y_train)\n",
    "y_pred_logistic = logistic_model.predict(X_test)\n",
    "print(\"Logistic Regression Accuracy:\", accuracy_score(y_test, y_pred_logistic))\n",
    "print(\"\\nClassification Report:\\n\", classification_report(y_test, y_pred_logistic))\n",
    "\n",
    "# Naive Bayes\n",
    "nb_model = GaussianNB()\n",
    "nb_model.fit(X_train, y_train)\n",
    "y_pred_nb = nb_model.predict(X_test)\n",
    "print(\"Naive Bayes Accuracy:\", accuracy_score(y_test, y_pred_nb))\n",
    "print(\"\\nClassification Report:\\n\", classification_report(y_test, y_pred_nb))\n",
    "\n",
    "# Linear SVC\n",
    "svm_model = LinearSVC()\n",
    "svm_model.fit(X_train, y_train)\n",
    "y_pred_svm = svm_model.predict(X_test)\n",
    "print(\"SVM Accuracy:\", accuracy_score(y_test, y_pred_svm))\n",
    "print(\"\\nClassification Report:\\n\", classification_report(y_test, y_pred_svm))\n",
    "\n",
    "# Random Forest\n",
    "rf_model = RandomForestClassifier(n_estimators=100, random_state=42)\n",
    "rf_model.fit(X_train, y_train)\n",
    "y_pred_rf = rf_model.predict(X_test)\n",
    "print(\"Random Forest Accuracy:\", accuracy_score(y_test, y_pred_rf))\n",
    "print(\"\\nClassification Report:\\n\", classification_report(y_test, y_pred_rf))"
   ]
  },
  {
   "cell_type": "markdown",
   "id": "509202c8",
   "metadata": {},
   "source": [
    "# Generalisation sur les nouvelles données"
   ]
  },
  {
   "cell_type": "code",
   "execution_count": 15,
   "id": "01337c86",
   "metadata": {
    "vscode": {
     "languageId": "ruby"
    }
   },
   "outputs": [
    {
     "name": "stdout",
     "output_type": "stream",
     "text": [
      "Logistic Regression Accuracy: 0.5416805048156759\n",
      "Naive Bayes Accuracy: 0.6027897708402524\n",
      "SVM Accuracy: 0.5433410826967785\n",
      "Random Forest Accuracy: 0.5450016605778811\n"
     ]
    }
   ],
   "source": [
    "\n",
    "new_data = pd.read_csv('data/corpus_combined_dataset.csv')\n",
    "\n",
    "# Prétraiter les textes\n",
    "new_data['cleaned_statement'] = new_data['Statement'].apply(preprocess_text)\n",
    "\n",
    "# Générer les embeddings BERT pour les nouvelles données\n",
    "new_embeddings = get_bert_embeddings_batch(new_data['cleaned_statement'].tolist(), batch_size=16)\n",
    "\n",
    "# Prédire les labels avec les modèles déjà entraînés\n",
    "y_pred_logistic_new = logistic_model.predict(new_embeddings)\n",
    "y_pred_nb_new = nb_model.predict(new_embeddings)\n",
    "y_pred_svm_new = svm_model.predict(new_embeddings)\n",
    "y_pred_rf_new = rf_model.predict(new_embeddings)\n",
    "\n",
    "# Calculer l'accuracy pour chaque modèle\n",
    "y_true_new = np.abs(1 - new_data['label'].values)\n",
    "print(\"Logistic Regression Accuracy:\", accuracy_score(y_true_new, y_pred_logistic_new))\n",
    "print(\"Naive Bayes Accuracy:\", accuracy_score(y_true_new, y_pred_nb_new))\n",
    "print(\"SVM Accuracy:\", accuracy_score(y_true_new, y_pred_svm_new))\n",
    "print(\"Random Forest Accuracy:\", accuracy_score(y_true_new, y_pred_rf_new))"
   ]
  },
  {
   "cell_type": "markdown",
   "id": "fd34676e",
   "metadata": {},
   "source": [
    "**Observations :**\n",
    "\n",
    ">Comme pour les autres combinaisons de feature extractors et de modèles, nous observons que la qualité des > prédictions se détériore fortement lorsque nous appliquons les modèles à de nouvelles données différentes de celles utilisées pour l'entraînement. Cela souligne l'importance cruciale des capacités de généralisation offertes par les méthodes avancées de NLP dans le cadre de la détection de fausses informations. Ces résultats mettent en évidence la nécessité d'utiliser des approches robustes et adaptées pour traiter des données variées et imprévisibles dans des contextes réels."
   ]
  }
 ],
 "metadata": {
  "kernelspec": {
   "display_name": "Python 3",
   "language": "python",
   "name": "python3"
  },
  "language_info": {
   "codemirror_mode": {
    "name": "ipython",
    "version": 3
   },
   "file_extension": ".py",
   "mimetype": "text/x-python",
   "name": "python",
   "nbconvert_exporter": "python",
   "pygments_lexer": "ipython3",
   "version": "3.9.21"
  }
 },
 "nbformat": 4,
 "nbformat_minor": 5
}
