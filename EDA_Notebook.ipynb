{
 "cells": [
  {
   "cell_type": "markdown",
   "id": "dc78331f",
   "metadata": {},
   "source": [
    "# NLP Project: Misinformation detection \n",
    "\n",
    "<div style=\"text-align: center;\">\n",
    "    <img src=\"image/fake_news.jpeg\" alt=\"Exemple d'image\" style=\"width: 30%;\"/>\n",
    "</div>\n",
    "\n",
    "---\n",
    "\n",
    "### **Project Overview**\n",
    "\n",
    "This project is part of the **NLP course assessment**. The evaluation takes the form of a **personal project**, where the goal is to write a scientific mini-article reporting an experiment on an NLP problem. The approach is as follows:\n",
    "\n",
    "1. **Choice of an NLP problem**: Select a problem for which there are reference datasets and state-of-the-art results published in peer-reviewed conferences or journals.\n",
    "2. **Brief state-of-the-art**: Summarize the existing research and methods related to the problem.\n",
    "3. **Proposal and justification of an experiment**: Propose an experiment to evaluate a model and justify its relevance.\n",
    "4. **Data preparation**: Retrieve, format, and describe the data statistically.\n",
    "5. **Experiments**: Conduct experiments with the proposed model.\n",
    "6. **Analysis and conclusion**: Analyze the results and provide a conclusion.\n",
    "\n",
    "\n",
    "### **Group Members**\n",
    "\n",
    "- **`Amine Razig`**\n",
    "- **`Mohamed Keteb`**\n",
    "\n",
    "\n",
    "### **Objective**\n",
    "\n",
    "The objective of this project is to explore an NLP problem in depth, implement various methods, and analyze the results to draw meaningful conclusions. This will involve both classical NLP techniques and modern deep learning approaches."
   ]
  },
  {
   "cell_type": "markdown",
   "id": "1d1e348c",
   "metadata": {},
   "source": [
    "\n"
   ]
  },
  {
   "cell_type": "code",
   "execution_count": 5,
   "id": "de2608fc",
   "metadata": {},
   "outputs": [],
   "source": [
    "import matplotlib.pyplot as plt\n",
    "import numpy as np\n",
    "import pandas as pd\n",
    "import seaborn as sns"
   ]
  },
  {
   "cell_type": "markdown",
   "id": "4c918d41",
   "metadata": {},
   "source": [
    "# Présenation du projet  : \n",
    "\n",
    "<div style=\"text-align: center;\">\n",
    "    <img src=\"image/illustration2.png\" alt=\"Exemple d'image\" style=\"width: 50%;\"/>\n",
    "</div>\n",
    "\n",
    "\n",
    "### **Plan des explorations :**\n",
    "\n",
    "### Étape 1 : Analyse exploratoire des données (EDA)\n",
    "\n",
    "    **Objectif** : Comprendre la structure des données, détecter les valeurs manquantes, visualiser la distribution des classes, et explorer les caractéristiques textuelles.\n",
    "\n",
    "\n",
    "### Étape 2 : Prétraitement des données\n",
    "\n",
    "    **Objectif** : Nettoyer les données textuelles pour les rendre exploitables par des modèles NLP.\n",
    "\n",
    "### Étape 3 : Représentation des textes\n",
    "\n",
    "**Objectif** : Transformer les textes en une représentation numérique.\n",
    "\n",
    "    **Méthodes à tester** :\n",
    "    - Bag of Words (BoW).\n",
    "    - TF-IDF.\n",
    "    - Word embeddings (Word2Vec, GloVe, FastText).\n",
    "    - Sentence embeddings (BERT, RoBERTa).\n",
    "\n",
    "\n",
    "### Étape 4 : Modélisation classique\n",
    "\n",
    "**Objectif** : Utiliser des modèles de machine learning classiques pour classifier les textes.\n",
    "\n",
    "    **Modèles à tester** :\n",
    "    - Logistic Regression.\n",
    "    - Naive Bayes.\n",
    "    - Support Vector Machines (SVM).\n",
    "    - Random Forest.\n",
    "\n",
    "\n",
    "### Étape 5 : Modélisation avancée (Deep Learning)\n",
    "\n",
    "**Objectif** : Utiliser des modèles de deep learning pour améliorer les performances.\n",
    "\n",
    "    **Modèles à tester** :\n",
    "    - RNN (LSTM, GRU).\n",
    "    - CNN pour le texte.\n",
    "    - Transformers (BERT, DistilBERT, etc.).\n",
    "\n",
    "\n",
    "### Étape 6 : Évaluation des modèles"
   ]
  },
  {
   "cell_type": "markdown",
   "id": "31c732e7",
   "metadata": {},
   "source": [
    "## Étape 1 : Analyse exploratoire des données (EDA)"
   ]
  },
  {
   "cell_type": "code",
   "execution_count": 6,
   "id": "d7c5dca7",
   "metadata": {},
   "outputs": [
    {
     "name": "stdout",
     "output_type": "stream",
     "text": [
      "Fake news dataset:\n",
      "<class 'pandas.core.frame.DataFrame'>\n",
      "RangeIndex: 23481 entries, 0 to 23480\n",
      "Data columns (total 5 columns):\n",
      " #   Column   Non-Null Count  Dtype \n",
      "---  ------   --------------  ----- \n",
      " 0   title    23481 non-null  object\n",
      " 1   text     23481 non-null  object\n",
      " 2   subject  23481 non-null  object\n",
      " 3   date     23481 non-null  object\n",
      " 4   label    23481 non-null  object\n",
      "dtypes: object(5)\n",
      "memory usage: 917.4+ KB\n",
      "None\n",
      "\n",
      "True news dataset:\n",
      "<class 'pandas.core.frame.DataFrame'>\n",
      "RangeIndex: 21417 entries, 0 to 21416\n",
      "Data columns (total 5 columns):\n",
      " #   Column   Non-Null Count  Dtype \n",
      "---  ------   --------------  ----- \n",
      " 0   title    21417 non-null  object\n",
      " 1   text     21417 non-null  object\n",
      " 2   subject  21417 non-null  object\n",
      " 3   date     21417 non-null  object\n",
      " 4   label    21417 non-null  object\n",
      "dtypes: object(5)\n",
      "memory usage: 836.7+ KB\n",
      "None\n",
      "\n",
      "Combined dataset:\n",
      "label\n",
      "fake    23481\n",
      "true    21417\n",
      "Name: count, dtype: int64\n"
     ]
    },
    {
     "data": {
      "image/png": "[encoded data removed]",
      "text/plain": [
       "<Figure size 640x480 with 1 Axes>"
      ]
     },
     "metadata": {},
     "output_type": "display_data"
    }
   ],
   "source": [
    "from src.eda import load_and_explore_data\n",
    "\n",
    "data = load_and_explore_data('data/Fake.csv', 'data/True.csv')"
   ]
  },
  {
   "cell_type": "markdown",
   "id": "dce9c2ad",
   "metadata": {},
   "source": [
    "### Statistiques descriptives sur les longueurs"
   ]
  },
  {
   "cell_type": "code",
   "execution_count": 7,
   "id": "149fcb54",
   "metadata": {},
   "outputs": [
    {
     "name": "stdout",
     "output_type": "stream",
     "text": [
      "====================================================================================================\n",
      "Valeurs manquantes par colonne :\n",
      "====================================================================================================\n",
      "title      0\n",
      "text       0\n",
      "subject    0\n",
      "date       0\n",
      "label      0\n",
      "dtype: int64\n",
      "====================================================================================================\n",
      "Nombre de doublons dans les données : 209\n",
      "====================================================================================================\n",
      "\n",
      "\n",
      "====================================================================================================\n",
      "Statistiques descriptives des longueurs de titres et de textes :\n",
      "====================================================================================================\n",
      "\n",
      "       title_length   text_length\n",
      "count  44898.000000  44898.000000\n",
      "mean      80.111720   2469.109693\n",
      "std       25.379685   2171.617091\n",
      "min        8.000000      1.000000\n",
      "25%       63.000000   1234.000000\n",
      "50%       73.000000   2186.000000\n",
      "75%       91.000000   3105.000000\n",
      "max      286.000000  51794.000000\n"
     ]
    },
    {
     "data": {
      "image/png": "[encoded data removed]",
      "text/plain": [
       "<Figure size 1000x600 with 1 Axes>"
      ]
     },
     "metadata": {},
     "output_type": "display_data"
    }
   ],
   "source": [
    "# valeurs manquantes\n",
    "print(\"==\" * 50)\n",
    "print(\"Valeurs manquantes par colonne :\")\n",
    "print(\"==\" * 50)\n",
    "print(data.isnull().sum())\n",
    "\n",
    "# doublons\n",
    "print(\"==\" * 50)\n",
    "print(\"Nombre de doublons dans les données :\", data.duplicated().sum())\n",
    "print(\"==\" * 50 + \"\\n\")\n",
    "\n",
    "# colonnes pour la longueur des titres et des textes\n",
    "data['title_length'] = data['title'].apply(len)\n",
    "data['text_length'] = data['text'].apply(len)\n",
    "\n",
    "# Statistiques descriptives sur les longueurs\n",
    "print(\"\\n\" + \"==\" * 50)\n",
    "print(\"Statistiques descriptives des longueurs de titres et de textes :\")\n",
    "print(\"==\" * 50 + \"\\n\")\n",
    "print(data[['title_length', 'text_length']].describe())\n",
    "\n",
    "# distribution des longueurs des textes\n",
    "plt.figure(figsize=(10, 6))\n",
    "data['text_length'].hist(bins=50, color='skyblue', edgecolor='black')\n",
    "plt.title('Distribution des longueurs des textes')\n",
    "plt.xlabel('Longueur du texte')\n",
    "plt.ylabel('Fréquence')\n",
    "plt.show()"
   ]
  },
  {
   "cell_type": "markdown",
   "id": "38a69ec1",
   "metadata": {},
   "source": [
    "### Répartition des sujets\n"
   ]
  },
  {
   "cell_type": "code",
   "execution_count": 8,
   "id": "cbada99e",
   "metadata": {},
   "outputs": [
    {
     "data": {
      "image/png": "[encoded data removed]",
      "text/plain": [
       "<Figure size 1000x600 with 1 Axes>"
      ]
     },
     "metadata": {},
     "output_type": "display_data"
    }
   ],
   "source": [
    "plt.figure(figsize=(10, 6))\n",
    "data['subject'].value_counts().plot(kind='bar', color='orange', edgecolor='black')\n",
    "plt.title('Répartition des sujets')\n",
    "plt.xlabel('Sujet')\n",
    "plt.ylabel('Nombre d\\'articles')\n",
    "plt.show()"
   ]
  },
  {
   "cell_type": "markdown",
   "id": "36f92e2c",
   "metadata": {},
   "source": [
    "## Étape 2 : Prétraitement des données"
   ]
  },
  {
   "cell_type": "code",
   "execution_count": 9,
   "id": "9f58ac9e",
   "metadata": {},
   "outputs": [
    {
     "name": "stderr",
     "output_type": "stream",
     "text": [
      "[nltk_data] Downloading package stopwords to\n",
      "[nltk_data]     /Users/aminerazig/nltk_data...\n",
      "[nltk_data]   Package stopwords is already up-to-date!\n",
      "[nltk_data] Downloading package wordnet to\n",
      "[nltk_data]     /Users/aminerazig/nltk_data...\n",
      "[nltk_data]   Package wordnet is already up-to-date!\n",
      "[nltk_data] Downloading package omw-1.4 to\n",
      "[nltk_data]     /Users/aminerazig/nltk_data...\n",
      "[nltk_data]   Package omw-1.4 is already up-to-date!\n"
     ]
    },
    {
     "name": "stdout",
     "output_type": "stream",
     "text": [
      "Exemple avant nettoyage :\n",
      "Donald Trump just couldn t wish all Americans a Happy New Year and leave it at that. Instead, he had to give a shout out to his enemies, haters and  the very dishonest fake news media.  The former reality show star had just one job to do and he couldn t do it. As our Country rapidly grows stronger and smarter, I want to wish all of my friends, supporters, enemies, haters, and even the very dishonest Fake News Media, a Happy and Healthy New Year,  President Angry Pants tweeted.  2018 will be a great year for America! As our Country rapidly grows stronger and smarter, I want to wish all of my friends, supporters, enemies, haters, and even the very dishonest Fake News Media, a Happy and Healthy New Year. 2018 will be a great year for America!  Donald J. Trump (@realDonaldTrump) December 31, 2017Trump s tweet went down about as welll as you d expect.What kind of president sends a New Year s greeting like this despicable, petty, infantile gibberish? Only Trump! His lack of decency won t even allow him to rise above the gutter long enough to wish the American citizens a happy new year!  Bishop Talbert Swan (@TalbertSwan) December 31, 2017no one likes you  Calvin (@calvinstowell) December 31, 2017Your impeachment would make 2018 a great year for America, but I ll also accept regaining control of Congress.  Miranda Yaver (@mirandayaver) December 31, 2017Do you hear yourself talk? When you have to include that many people that hate you you have to wonder? Why do the they all hate me?  Alan Sandoval (@AlanSandoval13) December 31, 2017Who uses the word Haters in a New Years wish??  Marlene (@marlene399) December 31, 2017You can t just say happy new year?  Koren pollitt (@Korencarpenter) December 31, 2017Here s Trump s New Year s Eve tweet from 2016.Happy New Year to all, including to my many enemies and those who have fought me and lost so badly they just don t know what to do. Love!  Donald J. Trump (@realDonaldTrump) December 31, 2016This is nothing new for Trump. He s been doing this for years.Trump has directed messages to his  enemies  and  haters  for New Year s, Easter, Thanksgiving, and the anniversary of 9/11. pic.twitter.com/4FPAe2KypA  Daniel Dale (@ddale8) December 31, 2017Trump s holiday tweets are clearly not presidential.How long did he work at Hallmark before becoming President?  Steven Goodine (@SGoodine) December 31, 2017He s always been like this . . . the only difference is that in the last few years, his filter has been breaking down.  Roy Schulze (@thbthttt) December 31, 2017Who, apart from a teenager uses the term haters?  Wendy (@WendyWhistles) December 31, 2017he s a fucking 5 year old  Who Knows (@rainyday80) December 31, 2017So, to all the people who voted for this a hole thinking he would change once he got into power, you were wrong! 70-year-old men don t change and now he s a year older.Photo by Andrew Burton/Getty Images.\n",
      "\n",
      "Exemple après nettoyage :\n",
      "donald trump wish american happy new year leave instead give shout enemy hater dishonest fake news medium former reality show star one job country rapidly grows stronger smarter want wish friend supporter enemy hater even dishonest fake news medium happy healthy new year president angry pant tweeted great year america country rapidly grows stronger smarter want wish friend supporter enemy hater even dishonest fake news medium happy healthy new year great year america donald j trump realdonaldtrump december trump tweet went welll expectwhat kind president sends new year greeting like despicable petty infantile gibberish trump lack decency even allow rise gutter long enough wish american citizen happy new year bishop talbert swan talbertswan december one like calvin calvinstowell december impeachment would make great year america also accept regaining control congress miranda yaver mirandayaver december hear talk include many people hate wonder hate alan sandoval alansandoval december us word hater new year wish marlene marlene december say happy new year koren pollitt korencarpenter december trump new year eve tweet happy new year including many enemy fought lost badly know love donald j trump realdonaldtrump december nothing new trump yearstrump directed message enemy hater new year easter thanksgiving anniversary pictwittercomfpaekypa daniel dale ddale december trump holiday tweet clearly presidentialhow long work hallmark becoming president steven goodine sgoodine december always like difference last year filter breaking roy schulze thbthttt december apart teenager us term hater wendy wendywhistles december fucking year old know rainyday december people voted hole thinking would change got power wrong yearold men change year olderphoto andrew burtongetty image\n"
     ]
    }
   ],
   "source": [
    "import re\n",
    "import nltk\n",
    "from nltk.corpus import stopwords\n",
    "from nltk.stem import WordNetLemmatizer\n",
    "\n",
    "# Télécharger les ressources nécessaires de NLTK\n",
    "nltk.download('stopwords')\n",
    "nltk.download('wordnet')\n",
    "nltk.download('omw-1.4')\n",
    "\n",
    "# Initialiser les stopwords et le lemmatizer\n",
    "stop_words = set(stopwords.words('english'))\n",
    "lemmatizer = WordNetLemmatizer()\n",
    "\n",
    "def preprocess_text(text):\n",
    "    # Convertir en minuscules\n",
    "    text = text.lower()\n",
    "    # Supprimer les caractères spéciaux et les chiffres\n",
    "    text = re.sub(r'[^a-z\\s]', '', text)\n",
    "    # Supprimer les stopwords et appliquer la lemmatisation\n",
    "    text = ' '.join([lemmatizer.lemmatize(word) for word in text.split() if word not in stop_words])\n",
    "    return text\n",
    "\n",
    "# Appliquer le prétraitement sur les colonnes 'title' et 'text'\n",
    "data['cleaned_title'] = data['title'].apply(preprocess_text)\n",
    "data['cleaned_text'] = data['text'].apply(preprocess_text)\n",
    "\n",
    "# Afficher un exemple avant et après le nettoyage\n",
    "print(\"Exemple avant nettoyage :\")\n",
    "print(data['text'].iloc[0])\n",
    "print(\"\\nExemple après nettoyage :\")\n",
    "print(data['cleaned_text'].iloc[0])"
   ]
  },
  {
   "cell_type": "markdown",
   "id": "e63dad39",
   "metadata": {},
   "source": [
    "## Étape 3 : Représentation des textes\n",
    "#### L'objectif est de transformer les textes en une représentation numérique. On test diffrentes approches : "
   ]
  },
  {
   "cell_type": "markdown",
   "id": "972f00fb",
   "metadata": {},
   "source": [
    "**Bag Of Words** : "
   ]
  },
  {
   "cell_type": "code",
   "execution_count": 10,
   "id": "389b64bd",
   "metadata": {},
   "outputs": [
    {
     "name": "stdout",
     "output_type": "stream",
     "text": [
      "Shape of Bag of Words matrix: (44898, 5000)\n"
     ]
    }
   ],
   "source": [
    "from sklearn.feature_extraction.text import CountVectorizer\n",
    "\n",
    "# Initialiser le CountVectorizer\n",
    "bow_vectorizer = CountVectorizer(max_features=5000)  # Limiter à 5000 mots les plus fréquents\n",
    "\n",
    "# Appliquer sur les textes nettoyés\n",
    "bow_features = bow_vectorizer.fit_transform(data['cleaned_text'])\n",
    "\n",
    "# Afficher la forme de la matrice BoW\n",
    "print(\"Shape of Bag of Words matrix:\", bow_features.shape)"
   ]
  },
  {
   "cell_type": "markdown",
   "id": "d8cf5510",
   "metadata": {},
   "source": [
    "**TF-IDF**"
   ]
  },
  {
   "cell_type": "code",
   "execution_count": 8,
   "id": "91021828",
   "metadata": {},
   "outputs": [
    {
     "name": "stdout",
     "output_type": "stream",
     "text": [
      "Shape of TF-IDF matrix: (44898, 5000)\n"
     ]
    }
   ],
   "source": [
    "from sklearn.feature_extraction.text import TfidfVectorizer\n",
    "\n",
    "# Initialiser le TfidfVectorizer\n",
    "tfidf_vectorizer = TfidfVectorizer(max_features=5000)  # Limiter à 5000 mots les plus fréquents\n",
    "\n",
    "# Appliquer sur les textes nettoyés\n",
    "tfidf_features = tfidf_vectorizer.fit_transform(data['cleaned_text'])\n",
    "\n",
    "# Afficher la forme de la matrice TF-IDF\n",
    "print(\"Shape of TF-IDF matrix:\", tfidf_features.shape)"
   ]
  },
  {
   "cell_type": "markdown",
   "id": "d01c7496",
   "metadata": {},
   "source": [
    "**Word Embeddings (Word2Vec, GloVe, FastText)**"
   ]
  },
  {
   "cell_type": "code",
   "execution_count": 9,
   "id": "fa81ab26",
   "metadata": {},
   "outputs": [
    {
     "name": "stdout",
     "output_type": "stream",
     "text": [
      "Vecteur pour le mot 'news': [-8.5481250e-01 -4.5338085e-01 -2.9696069e+00  3.5684094e+00\n",
      " -8.0237865e-01 -4.6832676e+00  9.9417478e-01  4.0548053e+00\n",
      " -4.0308714e+00 -7.7275950e-01 -9.2241877e-01  4.7073469e-01\n",
      "  4.7734386e-01  1.6175511e+00  6.2013745e-01  1.9502686e+00\n",
      " -3.6956635e-01  1.1917896e+00  2.7626077e-02  2.9751718e+00\n",
      " -4.2832146e+00 -1.4935027e+00  9.4369018e-01  5.4643106e-01\n",
      " -6.0515851e-01 -1.8235672e+00  1.7190980e+00  2.3421502e+00\n",
      "  5.0731206e-01  1.9626218e+00  1.3339272e-01 -4.9060698e+00\n",
      " -3.6966860e-01 -2.0341563e+00 -1.8711482e+00  7.3119271e-01\n",
      " -4.1442580e+00 -1.4880733e+00 -9.0447152e-01 -9.1651332e-01\n",
      " -1.4105207e+00 -2.7403636e-03  6.7472053e-01  2.3450325e+00\n",
      "  4.9912119e+00  6.8861723e-01  1.5097685e+00  1.1674049e+00\n",
      "  8.1833255e-01 -5.7741842e+00  1.4811745e+00  4.4072471e+00\n",
      " -6.7376447e-01 -1.3222151e+00  1.5507743e-01 -3.1218857e-01\n",
      " -2.2647135e+00 -7.1451849e-01 -1.0538199e+00 -3.4945554e-01\n",
      " -2.7779770e+00 -5.4794750e+00 -1.3557911e+00  3.7897435e-01\n",
      "  3.9797910e-02  1.1980990e+00  3.8515358e+00 -1.0725009e+00\n",
      "  2.6336536e+00 -1.0026300e-01  1.2846389e-01  1.3658199e-01\n",
      " -5.5137324e-01  2.1164589e+00  1.7274148e+00 -9.8361659e-01\n",
      " -1.8403004e+00 -2.3613489e+00  2.6611419e+00 -2.1537042e+00\n",
      " -2.5895697e-03 -2.0062795e+00  4.3030038e-01 -3.5734823e-01\n",
      "  8.8875473e-01  1.1237640e+00 -1.8486825e+00  1.1017329e+00\n",
      "  5.4217787e+00  1.0186895e+00 -4.2674160e+00 -2.1735067e+00\n",
      "  1.4118143e+00 -4.6712370e+00 -1.5103053e+00 -1.8090886e+00\n",
      " -1.9333097e+00 -3.9250159e+00  2.5859883e+00 -1.1567488e+00]\n"
     ]
    }
   ],
   "source": [
    "from gensim.models import Word2Vec\n",
    "\n",
    "# Tokeniser les textes nettoyés\n",
    "tokenized_texts = data['cleaned_text'].apply(lambda x: x.split())\n",
    "\n",
    "# Entraîner un modèle Word2Vec\n",
    "word2vec_model = Word2Vec(sentences=tokenized_texts, vector_size=100, window=5, min_count=1, workers=4)\n",
    "\n",
    "# Exemple : Obtenir le vecteur pour un mot\n",
    "print(\"Vecteur pour le mot 'news':\", word2vec_model.wv['news'])"
   ]
  },
  {
   "cell_type": "markdown",
   "id": "91567f9a",
   "metadata": {},
   "source": [
    "**Sentence Embeddings (BERT, RoBERTa)**"
   ]
  },
  {
   "cell_type": "code",
   "execution_count": 10,
   "id": "6f4c4392",
   "metadata": {},
   "outputs": [
    {
     "data": {
      "application/vnd.jupyter.widget-view+json": {
       "model_id": "1ee1af97366d47a082ae21a55dbc010b",
       "version_major": 2,
       "version_minor": 0
      },
      "text/plain": [
       "tokenizer_config.json:   0%|          | 0.00/48.0 [00:00<?, ?B/s]"
      ]
     },
     "metadata": {},
     "output_type": "display_data"
    },
    {
     "data": {
      "application/vnd.jupyter.widget-view+json": {
       "model_id": "842030ef9e364a69982ead8c07e1207e",
       "version_major": 2,
       "version_minor": 0
      },
      "text/plain": [
       "vocab.txt:   0%|          | 0.00/232k [00:00<?, ?B/s]"
      ]
     },
     "metadata": {},
     "output_type": "display_data"
    },
    {
     "data": {
      "application/vnd.jupyter.widget-view+json": {
       "model_id": "d579f6c88a4b47599ad0db475e224b08",
       "version_major": 2,
       "version_minor": 0
      },
      "text/plain": [
       "tokenizer.json:   0%|          | 0.00/466k [00:00<?, ?B/s]"
      ]
     },
     "metadata": {},
     "output_type": "display_data"
    },
    {
     "data": {
      "application/vnd.jupyter.widget-view+json": {
       "model_id": "56fe2ac090024a3798dcd0858ace305e",
       "version_major": 2,
       "version_minor": 0
      },
      "text/plain": [
       "config.json:   0%|          | 0.00/570 [00:00<?, ?B/s]"
      ]
     },
     "metadata": {},
     "output_type": "display_data"
    },
    {
     "data": {
      "application/vnd.jupyter.widget-view+json": {
       "model_id": "c503b6f7ae0f4af7828828c020d6e2cb",
       "version_major": 2,
       "version_minor": 0
      },
      "text/plain": [
       "model.safetensors:   0%|          | 0.00/440M [00:00<?, ?B/s]"
      ]
     },
     "metadata": {},
     "output_type": "display_data"
    },
    {
     "name": "stdout",
     "output_type": "stream",
     "text": [
      "Shape of BERT embeddings: torch.Size([1, 351, 768])\n"
     ]
    }
   ],
   "source": [
    "from transformers import BertTokenizer, BertModel\n",
    "import torch\n",
    "\n",
    "# Charger le tokenizer et le modèle BERT\n",
    "tokenizer = BertTokenizer.from_pretrained('bert-base-uncased')\n",
    "bert_model = BertModel.from_pretrained('bert-base-uncased')\n",
    "\n",
    "# Tokeniser un exemple de texte\n",
    "example_text = data['cleaned_text'].iloc[0]\n",
    "tokens = tokenizer(example_text, return_tensors='pt', truncation=True, padding=True, max_length=512)\n",
    "\n",
    "# Obtenir les embeddings\n",
    "with torch.no_grad():\n",
    "    embeddings = bert_model(**tokens)\n",
    "\n",
    "# Afficher la forme des embeddings\n",
    "print(\"Shape of BERT embeddings:\", embeddings.last_hidden_state.shape)"
   ]
  },
  {
   "cell_type": "markdown",
   "id": "f845ef8f",
   "metadata": {},
   "source": [
    "## Étape 4 : Modélisation classique\n",
    "Objectif : Utiliser des modèles de machine learning classiques pour classifier les textes."
   ]
  },
  {
   "cell_type": "code",
   "execution_count": 11,
   "id": "77f8ce15",
   "metadata": {},
   "outputs": [
    {
     "name": "stdout",
     "output_type": "stream",
     "text": [
      "Taille de l'ensemble d'entraînement : (35918, 5000)\n",
      "Taille de l'ensemble de test : (8980, 5000)\n"
     ]
    }
   ],
   "source": [
    "from sklearn.model_selection import train_test_split\n",
    "\n",
    "# Diviser les données en ensembles d'entraînement et de test\n",
    "X = tfidf_features  # Utilisez TF-IDF ou une autre représentation\n",
    "y = data['label']   # La colonne des étiquettes ('fake' ou 'true')\n",
    "\n",
    "# Encodage des étiquettes en valeurs numériques\n",
    "from sklearn.preprocessing import LabelEncoder\n",
    "label_encoder = LabelEncoder()\n",
    "y = label_encoder.fit_transform(y)\n",
    "\n",
    "# Division des données\n",
    "X_train, X_test, y_train, y_test = train_test_split(X, y, test_size=0.2, random_state=42)\n",
    "\n",
    "print(\"Taille de l'ensemble d'entraînement :\", X_train.shape)\n",
    "print(\"Taille de l'ensemble de test :\", X_test.shape)"
   ]
  },
  {
   "cell_type": "code",
   "execution_count": 12,
   "id": "12d74eaa",
   "metadata": {},
   "outputs": [
    {
     "name": "stdout",
     "output_type": "stream",
     "text": [
      "Logistic Regression Accuracy: 0.987305122494432\n",
      "\n",
      "Classification Report:\n",
      "               precision    recall  f1-score   support\n",
      "\n",
      "           0       0.99      0.99      0.99      4733\n",
      "           1       0.99      0.99      0.99      4247\n",
      "\n",
      "    accuracy                           0.99      8980\n",
      "   macro avg       0.99      0.99      0.99      8980\n",
      "weighted avg       0.99      0.99      0.99      8980\n",
      "\n"
     ]
    }
   ],
   "source": [
    "from sklearn.linear_model import LogisticRegression\n",
    "from sklearn.metrics import classification_report, accuracy_score\n",
    "\n",
    "# Initialiser et entraîner le modèle\n",
    "logistic_model = LogisticRegression(max_iter=1000)\n",
    "logistic_model.fit(X_train, y_train)\n",
    "\n",
    "# Prédictions\n",
    "y_pred = logistic_model.predict(X_test)\n",
    "\n",
    "# Évaluation\n",
    "print(\"Logistic Regression Accuracy:\", accuracy_score(y_test, y_pred))\n",
    "print(\"\\nClassification Report:\\n\", classification_report(y_test, y_pred))"
   ]
  },
  {
   "cell_type": "code",
   "execution_count": 13,
   "id": "8102d34c",
   "metadata": {},
   "outputs": [
    {
     "name": "stdout",
     "output_type": "stream",
     "text": [
      "Naive Bayes Accuracy: 0.929064587973274\n",
      "\n",
      "Classification Report:\n",
      "               precision    recall  f1-score   support\n",
      "\n",
      "           0       0.93      0.94      0.93      4733\n",
      "           1       0.93      0.92      0.92      4247\n",
      "\n",
      "    accuracy                           0.93      8980\n",
      "   macro avg       0.93      0.93      0.93      8980\n",
      "weighted avg       0.93      0.93      0.93      8980\n",
      "\n"
     ]
    }
   ],
   "source": [
    "from sklearn.naive_bayes import MultinomialNB\n",
    "\n",
    "# Initialiser et entraîner le modèle\n",
    "nb_model = MultinomialNB()\n",
    "nb_model.fit(X_train, y_train)\n",
    "\n",
    "# Prédictions\n",
    "y_pred = nb_model.predict(X_test)\n",
    "\n",
    "# Évaluation\n",
    "print(\"Naive Bayes Accuracy:\", accuracy_score(y_test, y_pred))\n",
    "print(\"\\nClassification Report:\\n\", classification_report(y_test, y_pred))"
   ]
  },
  {
   "cell_type": "code",
   "execution_count": 14,
   "id": "81785532",
   "metadata": {},
   "outputs": [
    {
     "name": "stdout",
     "output_type": "stream",
     "text": [
      "SVM Accuracy: 0.9947661469933184\n",
      "\n",
      "Classification Report:\n",
      "               precision    recall  f1-score   support\n",
      "\n",
      "           0       1.00      0.99      1.00      4733\n",
      "           1       0.99      1.00      0.99      4247\n",
      "\n",
      "    accuracy                           0.99      8980\n",
      "   macro avg       0.99      0.99      0.99      8980\n",
      "weighted avg       0.99      0.99      0.99      8980\n",
      "\n"
     ]
    }
   ],
   "source": [
    "from sklearn.svm import LinearSVC\n",
    "\n",
    "# Initialiser et entraîner le modèle\n",
    "svm_model = LinearSVC()\n",
    "svm_model.fit(X_train, y_train)\n",
    "\n",
    "# Prédictions\n",
    "y_pred = svm_model.predict(X_test)\n",
    "\n",
    "# Évaluation\n",
    "print(\"SVM Accuracy:\", accuracy_score(y_test, y_pred))\n",
    "print(\"\\nClassification Report:\\n\", classification_report(y_test, y_pred))"
   ]
  },
  {
   "cell_type": "code",
   "execution_count": 15,
   "id": "7abcb6ea",
   "metadata": {},
   "outputs": [
    {
     "name": "stdout",
     "output_type": "stream",
     "text": [
      "Random Forest Accuracy: 0.9974387527839643\n",
      "\n",
      "Classification Report:\n",
      "               precision    recall  f1-score   support\n",
      "\n",
      "           0       1.00      1.00      1.00      4733\n",
      "           1       1.00      1.00      1.00      4247\n",
      "\n",
      "    accuracy                           1.00      8980\n",
      "   macro avg       1.00      1.00      1.00      8980\n",
      "weighted avg       1.00      1.00      1.00      8980\n",
      "\n"
     ]
    }
   ],
   "source": [
    "from sklearn.ensemble import RandomForestClassifier\n",
    "\n",
    "# Initialiser et entraîner le modèle\n",
    "rf_model = RandomForestClassifier(n_estimators=100, random_state=42)\n",
    "rf_model.fit(X_train, y_train)\n",
    "\n",
    "# Prédictions\n",
    "y_pred = rf_model.predict(X_test)\n",
    "\n",
    "# Évaluation\n",
    "print(\"Random Forest Accuracy:\", accuracy_score(y_test, y_pred))\n",
    "print(\"\\nClassification Report:\\n\", classification_report(y_test, y_pred))"
   ]
  },
  {
   "cell_type": "markdown",
   "id": "4494053c",
   "metadata": {},
   "source": [
    "## Etape 5 : Models de deep learning "
   ]
  },
  {
   "cell_type": "markdown",
   "id": "354a1426",
   "metadata": {},
   "source": [
    "#### LSTM "
   ]
  },
  {
   "cell_type": "code",
   "execution_count": 23,
   "id": "b4e8b8a5",
   "metadata": {},
   "outputs": [
    {
     "name": "stdout",
     "output_type": "stream",
     "text": [
      "Testing with Word Embeddings (e.g. Word2Vec, GloVe, FastText)...\n",
      "Epoch [1/10], Loss: 0.3847\n",
      "Epoch [2/10], Loss: 0.2735\n",
      "Epoch [3/10], Loss: 0.0010\n",
      "Epoch [4/10], Loss: 0.0010\n",
      "Epoch [5/10], Loss: 0.0031\n",
      "Epoch [6/10], Loss: 0.0096\n",
      "Epoch [7/10], Loss: 0.0024\n",
      "Epoch [8/10], Loss: 0.0004\n",
      "Epoch [9/10], Loss: 0.0016\n",
      "Epoch [10/10], Loss: 0.0015\n",
      "Accuracy: 99.88%\n"
     ]
    }
   ],
   "source": [
    "import torch\n",
    "from torch.utils.data import Dataset, DataLoader\n",
    "from sklearn.model_selection import train_test_split\n",
    "import numpy as np\n",
    "import torch.nn as nn\n",
    "\n",
    "# 1. Dataset PyTorch compatible avec des séquences de vecteurs\n",
    "class WordEmbeddingDataset(Dataset):\n",
    "    def __init__(self, X, y):\n",
    "        self.X = torch.tensor(X, dtype=torch.float32)  # (samples, seq_len, embed_dim)\n",
    "        self.y = torch.tensor(y, dtype=torch.float32)\n",
    "\n",
    "    def __len__(self):\n",
    "        return len(self.y)\n",
    "\n",
    "    def __getitem__(self, idx):\n",
    "        return self.X[idx], self.y[idx]\n",
    "\n",
    "# 2. Modèle LSTM adapté aux séquences de word embeddings\n",
    "class LSTMBinaryClassifier(nn.Module):\n",
    "    def __init__(self, input_size, hidden_size, num_layers):\n",
    "        super().__init__()\n",
    "        self.lstm = nn.LSTM(input_size, hidden_size, num_layers, batch_first=True)\n",
    "        self.fc = nn.Linear(hidden_size, 1)\n",
    "        self.sigmoid = nn.Sigmoid()\n",
    "\n",
    "    def forward(self, x):  # x: (batch, seq_len, input_size)\n",
    "        out, _ = self.lstm(x)  # out: (batch, seq_len, hidden_size)\n",
    "        out = self.fc(out[:, -1, :])  # Prendre le dernier time step\n",
    "        return self.sigmoid(out).squeeze(1)\n",
    "\n",
    "# 3. Fonction d'entraînement et d'évaluation\n",
    "def train_and_evaluate_lstm(X, y, input_size, hidden_size=128, num_layers=1, num_epochs=10, batch_size=32):\n",
    "    X_train, X_test, y_train, y_test = train_test_split(X, y, test_size=0.2, random_state=42)\n",
    "\n",
    "    train_dataset = WordEmbeddingDataset(X_train, y_train)\n",
    "    test_dataset = WordEmbeddingDataset(X_test, y_test)\n",
    "    train_loader = DataLoader(train_dataset, batch_size=batch_size, shuffle=True)\n",
    "    test_loader = DataLoader(test_dataset, batch_size=batch_size)\n",
    "\n",
    "    device = torch.device(\"cuda\" if torch.cuda.is_available() else \"cpu\")\n",
    "    model = LSTMBinaryClassifier(input_size=input_size, hidden_size=hidden_size, num_layers=num_layers).to(device)\n",
    "    criterion = nn.BCELoss()\n",
    "    optimizer = torch.optim.Adam(model.parameters(), lr=0.001)\n",
    "\n",
    "    # Training\n",
    "    for epoch in range(num_epochs):\n",
    "        model.train()\n",
    "        for X_batch, y_batch in train_loader:\n",
    "            X_batch, y_batch = X_batch.to(device), y_batch.to(device)\n",
    "            outputs = model(X_batch)\n",
    "            loss = criterion(outputs, y_batch)\n",
    "            optimizer.zero_grad()\n",
    "            loss.backward()\n",
    "            optimizer.step()\n",
    "        print(f\"Epoch [{epoch+1}/{num_epochs}], Loss: {loss.item():.4f}\")\n",
    "\n",
    "    # Evaluation\n",
    "    model.eval()\n",
    "    correct = total = 0\n",
    "    with torch.no_grad():\n",
    "        for X_batch, y_batch in test_loader:\n",
    "            X_batch, y_batch = X_batch.to(device), y_batch.to(device)\n",
    "            outputs = model(X_batch)\n",
    "            predicted = (outputs >= 0.5).float()\n",
    "            total += y_batch.size(0)\n",
    "            correct += (predicted == y_batch).sum().item()\n",
    "    print(f\"Accuracy: {100 * correct / total:.2f}%\")\n",
    "\n",
    "# 4. Préparation des features avec Word2Vec / GloVe / FastText\n",
    "def prepare_word_embedding_features(tokenized_texts, embedding_model, max_len=100):\n",
    "    embedding_dim = embedding_model.vector_size\n",
    "    X = np.zeros((len(tokenized_texts), max_len, embedding_dim))\n",
    "    for i, tokens in enumerate(tokenized_texts):\n",
    "        for j, token in enumerate(tokens[:max_len]):\n",
    "            if token in embedding_model.wv:\n",
    "                X[i, j] = embedding_model.wv[token]\n",
    "    return X\n",
    "\n",
    "# 5. Exécution\n",
    "print(\"Testing with Word Embeddings (e.g. Word2Vec, GloVe, FastText)...\")\n",
    "\n",
    "# Assurez-vous que `tokenized_texts` et `embedding_model` existent\n",
    "# tokenized_texts = [['this', 'is', 'a', 'sentence'], ['another', 'example'], ...]\n",
    "# embedding_model = Word2Vec.load(...) ou GloVe/FastText via gensim\n",
    "\n",
    "word_embedding_features = prepare_word_embedding_features(tokenized_texts, word2vec_model)\n",
    "labels = (data['label'] == 'true').astype(int).values  # Par exemple\n",
    "\n",
    "train_and_evaluate_lstm(word_embedding_features, labels, input_size=word_embedding_features.shape[2])\n"
   ]
  },
  {
   "cell_type": "markdown",
   "id": "2f9ab5a1",
   "metadata": {},
   "source": [
    "#### CNN pour le text , Pour CNN  on utilise des représentations séquentielles (tokenizer + embedding layer)."
   ]
  },
  {
   "cell_type": "code",
   "execution_count": 11,
   "id": "2d25762e",
   "metadata": {},
   "outputs": [
    {
     "name": "stderr",
     "output_type": "stream",
     "text": [
      "2025-05-02 01:42:50.413228: I tensorflow/core/platform/cpu_feature_guard.cc:210] This TensorFlow binary is optimized to use available CPU instructions in performance-critical operations.\n",
      "To enable the following instructions: AVX2 FMA, in other operations, rebuild TensorFlow with the appropriate compiler flags.\n"
     ]
    }
   ],
   "source": [
    "import numpy as np\n",
    "import tensorflow as tf\n",
    "from tensorflow.keras.models import Sequential\n",
    "from tensorflow.keras.layers import Embedding, Conv1D, GlobalMaxPooling1D, Dense, Dropout\n",
    "from tensorflow.keras.preprocessing.text import Tokenizer\n",
    "from tensorflow.keras.preprocessing.sequence import pad_sequences\n",
    "from sklearn.model_selection import train_test_split\n",
    "from sklearn.metrics import classification_report\n",
    "\n",
    "# Préparer les données pour le CNN\n",
    "def prepare_data_for_cnn(texts, labels, max_words=10000, max_len=100):\n",
    "    tokenizer = Tokenizer(num_words=max_words)\n",
    "    tokenizer.fit_on_texts(texts)\n",
    "    sequences = tokenizer.texts_to_sequences(texts)\n",
    "    padded_sequences = pad_sequences(sequences, maxlen=max_len)\n",
    "    return padded_sequences, labels, tokenizer\n",
    "\n",
    "# Construire le modèle CNN\n",
    "def build_cnn_model(max_words=10000, max_len=100, embedding_dim=50):\n",
    "    model = Sequential([\n",
    "        Embedding(input_dim=max_words, output_dim=embedding_dim, input_length=max_len),\n",
    "        Conv1D(filters=128, kernel_size=5, activation='relu'),\n",
    "        GlobalMaxPooling1D(),\n",
    "        Dense(128, activation='relu'),\n",
    "        Dropout(0.5),\n",
    "        Dense(1, activation='sigmoid')  # Pour une classification binaire\n",
    "    ])\n",
    "    model.compile(optimizer='adam', loss='binary_crossentropy', metrics=['accuracy'])\n",
    "    return model\n",
    "\n",
    "# Entraîner et évaluer le modèle CNN\n",
    "def train_and_evaluate_cnn_model(model, X_train, y_train, X_test, y_test, batch_size=32, epochs=10):\n",
    "    history = model.fit(X_train, y_train, batch_size=batch_size, epochs=epochs, validation_split=0.2, verbose=1)\n",
    "    y_pred = (model.predict(X_test) > 0.5).astype(\"int32\")\n",
    "    print(\"\\nClassification Report:\\n\", classification_report(y_test, y_pred))\n",
    "    return history"
   ]
  },
  {
   "cell_type": "code",
   "execution_count": 12,
   "id": "e2a014f6",
   "metadata": {},
   "outputs": [],
   "source": [
    "# Préparer les données pour le CNN\n",
    "X = data['cleaned_text']  # Texte nettoyé\n",
    "y = data['label']         # Étiquettes (fake/true)\n",
    "\n",
    "# Diviser les données en ensembles d'entraînement et de test\n",
    "X_train, X_test, y_train, y_test = train_test_split(X, y, test_size=0.2, random_state=42)\n",
    "\n",
    "# Convertir les textes en séquences numériques et les remplir\n",
    "X_train_cnn, y_train_cnn, tokenizer = prepare_data_for_cnn(X_train, y_train)\n",
    "X_test_cnn, y_test_cnn, _ = prepare_data_for_cnn(X_test, y_test, max_words=tokenizer.num_words)"
   ]
  },
  {
   "cell_type": "code",
   "execution_count": 13,
   "id": "d62bf0d1",
   "metadata": {},
   "outputs": [
    {
     "name": "stderr",
     "output_type": "stream",
     "text": [
      "/Users/aminerazig/anaconda3/lib/python3.11/site-packages/keras/src/layers/core/embedding.py:90: UserWarning: Argument `input_length` is deprecated. Just remove it.\n",
      "  warnings.warn(\n"
     ]
    },
    {
     "data": {
      "text/html": [
       "<pre style=\"white-space:pre;overflow-x:auto;line-height:normal;font-family:Menlo,'DejaVu Sans Mono',consolas,'Courier New',monospace\"><span style=\"font-weight: bold\">Model: \"sequential\"</span>\n",
       "</pre>\n"
      ],
      "text/plain": [
       "\u001b[1mModel: \"sequential\"\u001b[0m\n"
      ]
     },
     "metadata": {},
     "output_type": "display_data"
    },
    {
     "data": {
      "text/html": [
       "<pre style=\"white-space:pre;overflow-x:auto;line-height:normal;font-family:Menlo,'DejaVu Sans Mono',consolas,'Courier New',monospace\">┏━━━━━━━━━━━━━━━━━━━━━━━━━━━━━━━━━┳━━━━━━━━━━━━━━━━━━━━━━━━┳━━━━━━━━━━━━━━━┓\n",
       "┃<span style=\"font-weight: bold\"> Layer (type)                    </span>┃<span style=\"font-weight: bold\"> Output Shape           </span>┃<span style=\"font-weight: bold\">       Param # </span>┃\n",
       "┡━━━━━━━━━━━━━━━━━━━━━━━━━━━━━━━━━╇━━━━━━━━━━━━━━━━━━━━━━━━╇━━━━━━━━━━━━━━━┩\n",
       "│ embedding (<span style=\"color: #0087ff; text-decoration-color: #0087ff\">Embedding</span>)           │ ?                      │   <span style=\"color: #00af00; text-decoration-color: #00af00\">0</span> (unbuilt) │\n",
       "├─────────────────────────────────┼────────────────────────┼───────────────┤\n",
       "│ conv1d (<span style=\"color: #0087ff; text-decoration-color: #0087ff\">Conv1D</span>)                 │ ?                      │   <span style=\"color: #00af00; text-decoration-color: #00af00\">0</span> (unbuilt) │\n",
       "├─────────────────────────────────┼────────────────────────┼───────────────┤\n",
       "│ global_max_pooling1d            │ ?                      │             <span style=\"color: #00af00; text-decoration-color: #00af00\">0</span> │\n",
       "│ (<span style=\"color: #0087ff; text-decoration-color: #0087ff\">GlobalMaxPooling1D</span>)            │                        │               │\n",
       "├─────────────────────────────────┼────────────────────────┼───────────────┤\n",
       "│ dense (<span style=\"color: #0087ff; text-decoration-color: #0087ff\">Dense</span>)                   │ ?                      │   <span style=\"color: #00af00; text-decoration-color: #00af00\">0</span> (unbuilt) │\n",
       "├─────────────────────────────────┼────────────────────────┼───────────────┤\n",
       "│ dropout (<span style=\"color: #0087ff; text-decoration-color: #0087ff\">Dropout</span>)               │ ?                      │             <span style=\"color: #00af00; text-decoration-color: #00af00\">0</span> │\n",
       "├─────────────────────────────────┼────────────────────────┼───────────────┤\n",
       "│ dense_1 (<span style=\"color: #0087ff; text-decoration-color: #0087ff\">Dense</span>)                 │ ?                      │   <span style=\"color: #00af00; text-decoration-color: #00af00\">0</span> (unbuilt) │\n",
       "└─────────────────────────────────┴────────────────────────┴───────────────┘\n",
       "</pre>\n"
      ],
      "text/plain": [
       "┏━━━━━━━━━━━━━━━━━━━━━━━━━━━━━━━━━┳━━━━━━━━━━━━━━━━━━━━━━━━┳━━━━━━━━━━━━━━━┓\n",
       "┃\u001b[1m \u001b[0m\u001b[1mLayer (type)                   \u001b[0m\u001b[1m \u001b[0m┃\u001b[1m \u001b[0m\u001b[1mOutput Shape          \u001b[0m\u001b[1m \u001b[0m┃\u001b[1m \u001b[0m\u001b[1m      Param #\u001b[0m\u001b[1m \u001b[0m┃\n",
       "┡━━━━━━━━━━━━━━━━━━━━━━━━━━━━━━━━━╇━━━━━━━━━━━━━━━━━━━━━━━━╇━━━━━━━━━━━━━━━┩\n",
       "│ embedding (\u001b[38;5;33mEmbedding\u001b[0m)           │ ?                      │   \u001b[38;5;34m0\u001b[0m (unbuilt) │\n",
       "├─────────────────────────────────┼────────────────────────┼───────────────┤\n",
       "│ conv1d (\u001b[38;5;33mConv1D\u001b[0m)                 │ ?                      │   \u001b[38;5;34m0\u001b[0m (unbuilt) │\n",
       "├─────────────────────────────────┼────────────────────────┼───────────────┤\n",
       "│ global_max_pooling1d            │ ?                      │             \u001b[38;5;34m0\u001b[0m │\n",
       "│ (\u001b[38;5;33mGlobalMaxPooling1D\u001b[0m)            │                        │               │\n",
       "├─────────────────────────────────┼────────────────────────┼───────────────┤\n",
       "│ dense (\u001b[38;5;33mDense\u001b[0m)                   │ ?                      │   \u001b[38;5;34m0\u001b[0m (unbuilt) │\n",
       "├─────────────────────────────────┼────────────────────────┼───────────────┤\n",
       "│ dropout (\u001b[38;5;33mDropout\u001b[0m)               │ ?                      │             \u001b[38;5;34m0\u001b[0m │\n",
       "├─────────────────────────────────┼────────────────────────┼───────────────┤\n",
       "│ dense_1 (\u001b[38;5;33mDense\u001b[0m)                 │ ?                      │   \u001b[38;5;34m0\u001b[0m (unbuilt) │\n",
       "└─────────────────────────────────┴────────────────────────┴───────────────┘\n"
      ]
     },
     "metadata": {},
     "output_type": "display_data"
    },
    {
     "data": {
      "text/html": [
       "<pre style=\"white-space:pre;overflow-x:auto;line-height:normal;font-family:Menlo,'DejaVu Sans Mono',consolas,'Courier New',monospace\"><span style=\"font-weight: bold\"> Total params: </span><span style=\"color: #00af00; text-decoration-color: #00af00\">0</span> (0.00 B)\n",
       "</pre>\n"
      ],
      "text/plain": [
       "\u001b[1m Total params: \u001b[0m\u001b[38;5;34m0\u001b[0m (0.00 B)\n"
      ]
     },
     "metadata": {},
     "output_type": "display_data"
    },
    {
     "data": {
      "text/html": [
       "<pre style=\"white-space:pre;overflow-x:auto;line-height:normal;font-family:Menlo,'DejaVu Sans Mono',consolas,'Courier New',monospace\"><span style=\"font-weight: bold\"> Trainable params: </span><span style=\"color: #00af00; text-decoration-color: #00af00\">0</span> (0.00 B)\n",
       "</pre>\n"
      ],
      "text/plain": [
       "\u001b[1m Trainable params: \u001b[0m\u001b[38;5;34m0\u001b[0m (0.00 B)\n"
      ]
     },
     "metadata": {},
     "output_type": "display_data"
    },
    {
     "data": {
      "text/html": [
       "<pre style=\"white-space:pre;overflow-x:auto;line-height:normal;font-family:Menlo,'DejaVu Sans Mono',consolas,'Courier New',monospace\"><span style=\"font-weight: bold\"> Non-trainable params: </span><span style=\"color: #00af00; text-decoration-color: #00af00\">0</span> (0.00 B)\n",
       "</pre>\n"
      ],
      "text/plain": [
       "\u001b[1m Non-trainable params: \u001b[0m\u001b[38;5;34m0\u001b[0m (0.00 B)\n"
      ]
     },
     "metadata": {},
     "output_type": "display_data"
    }
   ],
   "source": [
    "# Construire le modèle CNN\n",
    "cnn_model = build_cnn_model(max_words=10000, max_len=100, embedding_dim=50)\n",
    "\n",
    "# Résumé du modèle\n",
    "cnn_model.summary()"
   ]
  },
  {
   "cell_type": "code",
   "execution_count": 14,
   "id": "3c71e462",
   "metadata": {},
   "outputs": [
    {
     "name": "stdout",
     "output_type": "stream",
     "text": [
      "<class 'numpy.ndarray'> int32\n",
      "<class 'pandas.core.series.Series'> object\n",
      "<class 'numpy.ndarray'> int32\n",
      "<class 'numpy.ndarray'> int64\n"
     ]
    }
   ],
   "source": [
    "print(type(X_train_cnn), X_train_cnn.dtype)\n",
    "print(type(y_train_cnn), y_train_cnn.dtype)\n",
    "\n",
    "# Convertir X_train_cnn et X_test_cnn en numpy array avec dtype int32\n",
    "X_train_cnn = np.array(X_train_cnn, dtype=np.int32)\n",
    "X_test_cnn = np.array(X_test_cnn, dtype=np.int32)\n",
    "\n",
    "from sklearn.preprocessing import LabelEncoder\n",
    "\n",
    "# Encoder les étiquettes en valeurs numériques\n",
    "label_encoder = LabelEncoder()\n",
    "y_train_cnn = label_encoder.fit_transform(y_train_cnn)\n",
    "y_test_cnn = label_encoder.transform(y_test_cnn)\n",
    "\n",
    "print(type(X_train_cnn), X_train_cnn.dtype)\n",
    "print(type(y_train_cnn), y_train_cnn.dtype)"
   ]
  },
  {
   "cell_type": "code",
   "execution_count": 15,
   "id": "aa16f441",
   "metadata": {},
   "outputs": [
    {
     "name": "stdout",
     "output_type": "stream",
     "text": [
      "Epoch 1/10\n",
      "\u001b[1m898/898\u001b[0m \u001b[32m━━━━━━━━━━━━━━━━━━━━\u001b[0m\u001b[37m\u001b[0m \u001b[1m33s\u001b[0m 33ms/step - accuracy: 0.8483 - loss: 0.2985 - val_accuracy: 0.9745 - val_loss: 0.0699\n",
      "Epoch 2/10\n",
      "\u001b[1m898/898\u001b[0m \u001b[32m━━━━━━━━━━━━━━━━━━━━\u001b[0m\u001b[37m\u001b[0m \u001b[1m43s\u001b[0m 36ms/step - accuracy: 0.9905 - loss: 0.0325 - val_accuracy: 0.9812 - val_loss: 0.0562\n",
      "Epoch 3/10\n",
      "\u001b[1m898/898\u001b[0m \u001b[32m━━━━━━━━━━━━━━━━━━━━\u001b[0m\u001b[37m\u001b[0m \u001b[1m32s\u001b[0m 35ms/step - accuracy: 0.9992 - loss: 0.0056 - val_accuracy: 0.9779 - val_loss: 0.0745\n",
      "Epoch 4/10\n",
      "\u001b[1m898/898\u001b[0m \u001b[32m━━━━━━━━━━━━━━━━━━━━\u001b[0m\u001b[37m\u001b[0m \u001b[1m31s\u001b[0m 34ms/step - accuracy: 0.9998 - loss: 0.0019 - val_accuracy: 0.9813 - val_loss: 0.0816\n",
      "Epoch 5/10\n",
      "\u001b[1m898/898\u001b[0m \u001b[32m━━━━━━━━━━━━━━━━━━━━\u001b[0m\u001b[37m\u001b[0m \u001b[1m32s\u001b[0m 35ms/step - accuracy: 0.9995 - loss: 0.0022 - val_accuracy: 0.9812 - val_loss: 0.0882\n",
      "Epoch 6/10\n",
      "\u001b[1m898/898\u001b[0m \u001b[32m━━━━━━━━━━━━━━━━━━━━\u001b[0m\u001b[37m\u001b[0m \u001b[1m30s\u001b[0m 34ms/step - accuracy: 0.9998 - loss: 8.2428e-04 - val_accuracy: 0.9820 - val_loss: 0.0968\n",
      "Epoch 7/10\n",
      "\u001b[1m898/898\u001b[0m \u001b[32m━━━━━━━━━━━━━━━━━━━━\u001b[0m\u001b[37m\u001b[0m \u001b[1m31s\u001b[0m 35ms/step - accuracy: 0.9999 - loss: 4.0070e-04 - val_accuracy: 0.9794 - val_loss: 0.1343\n",
      "Epoch 8/10\n",
      "\u001b[1m898/898\u001b[0m \u001b[32m━━━━━━━━━━━━━━━━━━━━\u001b[0m\u001b[37m\u001b[0m \u001b[1m32s\u001b[0m 35ms/step - accuracy: 0.9977 - loss: 0.0077 - val_accuracy: 0.9793 - val_loss: 0.1038\n",
      "Epoch 9/10\n",
      "\u001b[1m898/898\u001b[0m \u001b[32m━━━━━━━━━━━━━━━━━━━━\u001b[0m\u001b[37m\u001b[0m \u001b[1m32s\u001b[0m 35ms/step - accuracy: 0.9994 - loss: 0.0022 - val_accuracy: 0.9790 - val_loss: 0.1217\n",
      "Epoch 10/10\n",
      "\u001b[1m898/898\u001b[0m \u001b[32m━━━━━━━━━━━━━━━━━━━━\u001b[0m\u001b[37m\u001b[0m \u001b[1m32s\u001b[0m 36ms/step - accuracy: 1.0000 - loss: 2.6190e-04 - val_accuracy: 0.9800 - val_loss: 0.1298\n",
      "\u001b[1m281/281\u001b[0m \u001b[32m━━━━━━━━━━━━━━━━━━━━\u001b[0m\u001b[37m\u001b[0m \u001b[1m3s\u001b[0m 9ms/step\n",
      "\n",
      "Classification Report:\n",
      "               precision    recall  f1-score   support\n",
      "\n",
      "           0       0.72      0.66      0.69      4733\n",
      "           1       0.66      0.72      0.68      4247\n",
      "\n",
      "    accuracy                           0.69      8980\n",
      "   macro avg       0.69      0.69      0.69      8980\n",
      "weighted avg       0.69      0.69      0.69      8980\n",
      "\n"
     ]
    }
   ],
   "source": [
    "# Entraîner et évaluer le modèle CNN\n",
    "history = train_and_evaluate_cnn_model(cnn_model, X_train_cnn, y_train_cnn, X_test_cnn, y_test_cnn, batch_size=32, epochs=10)"
   ]
  },
  {
   "cell_type": "code",
   "execution_count": 16,
   "id": "7827b360",
   "metadata": {},
   "outputs": [
    {
     "data": {
      "image/png": "[encoded data removed]",
      "text/plain": [
       "<Figure size 640x480 with 1 Axes>"
      ]
     },
     "metadata": {},
     "output_type": "display_data"
    },
    {
     "data": {
      "image/png": "[encoded data removed]",
      "text/plain": [
       "<Figure size 640x480 with 1 Axes>"
      ]
     },
     "metadata": {},
     "output_type": "display_data"
    }
   ],
   "source": [
    "import matplotlib.pyplot as plt\n",
    "\n",
    "# Visualiser la perte\n",
    "plt.plot(history.history['loss'], label='Train Loss')\n",
    "plt.plot(history.history['val_loss'], label='Validation Loss')\n",
    "plt.title('Courbe de perte')\n",
    "plt.xlabel('Épochs')\n",
    "plt.ylabel('Perte')\n",
    "plt.legend()\n",
    "plt.show()\n",
    "\n",
    "# Visualiser la précision\n",
    "plt.plot(history.history['accuracy'], label='Train Accuracy')\n",
    "plt.plot(history.history['val_accuracy'], label='Validation Accuracy')\n",
    "plt.title('Courbe de précision')\n",
    "plt.xlabel('Épochs')\n",
    "plt.ylabel('Précision')\n",
    "plt.legend()\n",
    "plt.show()"
   ]
  },
  {
   "cell_type": "markdown",
   "id": "cc4f1dc4",
   "metadata": {},
   "source": [
    "#### Test de la generalisation sur de nouvelles données : "
   ]
  },
  {
   "cell_type": "code",
   "execution_count": null,
   "id": "ea965e27",
   "metadata": {
    "vscode": {
     "languageId": "ruby"
    }
   },
   "outputs": [
    {
     "name": "stdout",
     "output_type": "stream",
     "text": [
      "Index(['label', 'Statement'], dtype='object')\n"
     ]
    }
   ],
   "source": [
    "#  nouvelles données\n",
    "new_data = pd.read_csv('data/corpus_combined_dataset.csv')\n",
    "print(new_data.columns)\n",
    "\n",
    "new_data['cleaned_text'] = new_data['Statement'].apply(preprocess_text)\n",
    "\n",
    "new_sequences = tokenizer.texts_to_sequences(new_data['cleaned_text'])\n",
    "new_padded_sequences = pad_sequences(new_sequences, maxlen=100)"
   ]
  },
  {
   "cell_type": "code",
   "execution_count": null,
   "id": "56f9eb1a",
   "metadata": {
    "vscode": {
     "languageId": "ruby"
    }
   },
   "outputs": [
    {
     "name": "stdout",
     "output_type": "stream",
     "text": [
      "Étiquettes uniques dans les nouvelles données : [1 0]\n",
      "Étiquettes connues par le LabelEncoder : ['fake' 'true']\n"
     ]
    }
   ],
   "source": [
    "# étiquettes uniques dans les nouvelles données\n",
    "print(\"Étiquettes uniques dans les nouvelles données :\", new_data['label'].unique())\n",
    "print(\"Étiquettes connues par le LabelEncoder :\", label_encoder.classes_)\n"
   ]
  },
  {
   "cell_type": "code",
   "execution_count": null,
   "id": "7a350b73",
   "metadata": {
    "vscode": {
     "languageId": "ruby"
    }
   },
   "outputs": [
    {
     "name": "stdout",
     "output_type": "stream",
     "text": [
      "Étiquettes après mapping : ['true' 'fake']\n",
      "\u001b[1m95/95\u001b[0m \u001b[32m━━━━━━━━━━━━━━━━━━━━\u001b[0m\u001b[37m\u001b[0m \u001b[1m1s\u001b[0m 6ms/step\n",
      "Accuracy on new data: 57.29%\n"
     ]
    }
   ],
   "source": [
    "label_mapping = {1: 'true', 0: 'fake'}\n",
    "new_data['label'] = new_data['label'].map(label_mapping)\n",
    "\n",
    "print(\"Étiquettes après mapping :\", new_data['label'].unique())\n",
    "\n",
    "new_data['encoded_label'] = label_encoder.transform(new_data['label'])\n",
    "\n",
    "# textes en séquences numériques\n",
    "new_sequences = tokenizer.texts_to_sequences(new_data['cleaned_text'])\n",
    "new_padded_sequences = pad_sequences(new_sequences, maxlen=100)\n",
    "\n",
    "# Prédictions\n",
    "new_predictions = (cnn_model.predict(new_padded_sequences) > 0.5).astype(\"int32\")\n",
    "\n",
    "#accuracy\n",
    "accuracy = accuracy_score(new_data['encoded_label'], new_predictions.flatten())\n",
    "print(f\"Accuracy on new data: {accuracy * 100:.2f}%\")"
   ]
  }
 ],
 "metadata": {
  "kernelspec": {
   "display_name": "Python 3",
   "language": "python",
   "name": "python3"
  },
  "language_info": {
   "codemirror_mode": {
    "name": "ipython",
    "version": 3
   },
   "file_extension": ".py",
   "mimetype": "text/x-python",
   "name": "python",
   "nbconvert_exporter": "python",
   "pygments_lexer": "ipython3",
   "version": "3.9.21"
  }
 },
 "nbformat": 4,
 "nbformat_minor": 5
}
