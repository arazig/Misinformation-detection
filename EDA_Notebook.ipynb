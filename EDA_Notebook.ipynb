{
 "cells": [
  {
   "cell_type": "markdown",
   "id": "dc78331f",
   "metadata": {},
   "source": [
    "# NLP Project: Misinformation detection \n",
    "\n",
    "<div style=\"text-align: center;\">\n",
    "    <img src=\"image/fake_news.jpeg\" alt=\"Exemple d'image\" style=\"width: 30%;\"/>\n",
    "</div>\n",
    "\n",
    "---\n",
    "\n",
    "### **Project Overview**\n",
    "\n",
    "This project is part of the **NLP course assessment**. The evaluation takes the form of a **personal project**, where the goal is to write a scientific mini-article reporting an experiment on an NLP problem. The approach is as follows:\n",
    "\n",
    "1. **Choice of an NLP problem**: Select a problem for which there are reference datasets and state-of-the-art results published in peer-reviewed conferences or journals.\n",
    "2. **Brief state-of-the-art**: Summarize the existing research and methods related to the problem.\n",
    "3. **Proposal and justification of an experiment**: Propose an experiment to evaluate a model and justify its relevance.\n",
    "4. **Data preparation**: Retrieve, format, and describe the data statistically.\n",
    "5. **Experiments**: Conduct experiments with the proposed model.\n",
    "6. **Analysis and conclusion**: Analyze the results and provide a conclusion.\n",
    "\n",
    "\n",
    "### **Group Members**\n",
    "\n",
    "- **`Amine Razig`**\n",
    "- **`Mohamed Keteb`**\n",
    "\n",
    "\n",
    "### **Objective**\n",
    "\n",
    "The objective of this project is to explore an NLP problem in depth, implement various methods, and analyze the results to draw meaningful conclusions. This will involve both classical NLP techniques and modern deep learning approaches."
   ]
  },
  {
   "cell_type": "markdown",
   "id": "1d1e348c",
   "metadata": {},
   "source": [
    "\n"
   ]
  },
  {
   "cell_type": "code",
   "execution_count": 3,
   "id": "de2608fc",
   "metadata": {},
   "outputs": [],
   "source": [
    "import matplotlib.pyplot as plt\n",
    "import numpy as np\n",
    "import pandas as pd\n",
    "import seaborn as sns"
   ]
  },
  {
   "cell_type": "markdown",
   "id": "4c918d41",
   "metadata": {},
   "source": [
    "# Présenation du projet  : \n",
    "\n",
    "<div style=\"text-align: center;\">\n",
    "    <img src=\"image/illustration2.png\" alt=\"Exemple d'image\" style=\"width: 50%;\"/>\n",
    "</div>\n",
    "\n",
    "\n",
    "### **Plan des explorations :**\n",
    "\n",
    "### Étape 1 : Analyse exploratoire des données (EDA)\n",
    "\n",
    "    **Objectif** : Comprendre la structure des données, détecter les valeurs manquantes, visualiser la distribution des classes, et explorer les caractéristiques textuelles.\n",
    "\n",
    "\n",
    "### Étape 2 : Prétraitement des données\n",
    "\n",
    "    **Objectif** : Nettoyer les données textuelles pour les rendre exploitables par des modèles NLP.\n",
    "\n",
    "### Étape 3 : Représentation des textes\n",
    "\n",
    "**Objectif** : Transformer les textes en une représentation numérique.\n",
    "\n",
    "    **Méthodes à tester** :\n",
    "    - Bag of Words (BoW).\n",
    "    - TF-IDF.\n",
    "    - Word embeddings (Word2Vec, GloVe, FastText).\n",
    "    - Sentence embeddings (BERT, RoBERTa).\n",
    "\n",
    "\n",
    "### Étape 4 : Modélisation classique\n",
    "\n",
    "**Objectif** : Utiliser des modèles de machine learning classiques pour classifier les textes.\n",
    "\n",
    "    **Modèles à tester** :\n",
    "    - Logistic Regression.\n",
    "    - Naive Bayes.\n",
    "    - Support Vector Machines (SVM).\n",
    "    - Random Forest.\n",
    "\n",
    "\n",
    "### Étape 5 : Modélisation avancée (Deep Learning)\n",
    "\n",
    "**Objectif** : Utiliser des modèles de deep learning pour améliorer les performances.\n",
    "\n",
    "    **Modèles à tester** :\n",
    "    - RNN (LSTM, GRU).\n",
    "    - CNN pour le texte.\n",
    "    - Transformers (BERT, DistilBERT, etc.).\n",
    "\n",
    "\n",
    "### Étape 6 : Évaluation des modèles"
   ]
  },
  {
   "cell_type": "markdown",
   "id": "31c732e7",
   "metadata": {},
   "source": [
    "## Étape 1 : Analyse exploratoire des données (EDA)"
   ]
  },
  {
   "cell_type": "code",
   "execution_count": 1,
   "id": "d7c5dca7",
   "metadata": {},
   "outputs": [
    {
     "name": "stderr",
     "output_type": "stream",
     "text": [
      "/Users/aminerazig/anaconda3/lib/python3.11/site-packages/pandas/core/arrays/masked.py:60: UserWarning: Pandas requires version '1.3.6' or newer of 'bottleneck' (version '1.3.5' currently installed).\n",
      "  from pandas.core import (\n"
     ]
    },
    {
     "name": "stdout",
     "output_type": "stream",
     "text": [
      "Fake news dataset:\n",
      "<class 'pandas.core.frame.DataFrame'>\n",
      "RangeIndex: 23481 entries, 0 to 23480\n",
      "Data columns (total 5 columns):\n",
      " #   Column   Non-Null Count  Dtype \n",
      "---  ------   --------------  ----- \n",
      " 0   title    23481 non-null  object\n",
      " 1   text     23481 non-null  object\n",
      " 2   subject  23481 non-null  object\n",
      " 3   date     23481 non-null  object\n",
      " 4   label    23481 non-null  object\n",
      "dtypes: object(5)\n",
      "memory usage: 917.4+ KB\n",
      "None\n",
      "\n",
      "True news dataset:\n",
      "<class 'pandas.core.frame.DataFrame'>\n",
      "RangeIndex: 21417 entries, 0 to 21416\n",
      "Data columns (total 5 columns):\n",
      " #   Column   Non-Null Count  Dtype \n",
      "---  ------   --------------  ----- \n",
      " 0   title    21417 non-null  object\n",
      " 1   text     21417 non-null  object\n",
      " 2   subject  21417 non-null  object\n",
      " 3   date     21417 non-null  object\n",
      " 4   label    21417 non-null  object\n",
      "dtypes: object(5)\n",
      "memory usage: 836.7+ KB\n",
      "None\n",
      "\n",
      "Combined dataset:\n",
      "label\n",
      "fake    23481\n",
      "true    21417\n",
      "Name: count, dtype: int64\n"
     ]
    },
    {
     "data": {
      "image/png": "[encoded data removed]",
      "text/plain": [
       "<Figure size 640x480 with 1 Axes>"
      ]
     },
     "metadata": {},
     "output_type": "display_data"
    }
   ],
   "source": [
    "from src.eda import load_and_explore_data\n",
    "\n",
    "data = load_and_explore_data('data/Fake.csv', 'data/True.csv')"
   ]
  },
  {
   "cell_type": "markdown",
   "id": "dce9c2ad",
   "metadata": {},
   "source": [
    "### Statistiques descriptives sur les longueurs"
   ]
  },
  {
   "cell_type": "code",
   "execution_count": null,
   "id": "149fcb54",
   "metadata": {},
   "outputs": [
    {
     "name": "stdout",
     "output_type": "stream",
     "text": [
      "====================================================================================================\n",
      "Valeurs manquantes par colonne :\n",
      "====================================================================================================\n",
      "title           0\n",
      "text            0\n",
      "subject         0\n",
      "date            0\n",
      "label           0\n",
      "title_length    0\n",
      "text_length     0\n",
      "dtype: int64\n",
      "====================================================================================================\n",
      "Nombre de doublons dans les données : 209\n",
      "====================================================================================================\n",
      "\n",
      "\n",
      "====================================================================================================\n",
      "Statistiques descriptives des longueurs de titres et de textes :\n",
      "====================================================================================================\n",
      "\n",
      "       title_length   text_length\n",
      "count  44898.000000  44898.000000\n",
      "mean      80.111720   2469.109693\n",
      "std       25.379685   2171.617091\n",
      "min        8.000000      1.000000\n",
      "25%       63.000000   1234.000000\n",
      "50%       73.000000   2186.000000\n",
      "75%       91.000000   3105.000000\n",
      "max      286.000000  51794.000000\n"
     ]
    },
    {
     "data": {
      "image/png": "[encoded data removed]",
      "text/plain": [
       "<Figure size 1000x600 with 1 Axes>"
      ]
     },
     "metadata": {},
     "output_type": "display_data"
    }
   ],
   "source": [
    "# valeurs manquantes\n",
    "print(\"==\" * 50)\n",
    "print(\"Valeurs manquantes par colonne :\")\n",
    "print(\"==\" * 50)\n",
    "print(data.isnull().sum())\n",
    "\n",
    "# doublons\n",
    "print(\"==\" * 50)\n",
    "print(\"Nombre de doublons dans les données :\", data.duplicated().sum())\n",
    "print(\"==\" * 50 + \"\\n\")\n",
    "\n",
    "# colonnes pour la longueur des titres et des textes\n",
    "data['title_length'] = data['title'].apply(len)\n",
    "data['text_length'] = data['text'].apply(len)\n",
    "\n",
    "# Statistiques descriptives sur les longueurs\n",
    "print(\"\\n\" + \"==\" * 50)\n",
    "print(\"Statistiques descriptives des longueurs de titres et de textes :\")\n",
    "print(\"==\" * 50 + \"\\n\")\n",
    "print(data[['title_length', 'text_length']].describe())\n",
    "\n",
    "# distribution des longueurs des textes\n",
    "plt.figure(figsize=(10, 6))\n",
    "data['text_length'].hist(bins=50, color='skyblue', edgecolor='black')\n",
    "plt.title('Distribution des longueurs des textes')\n",
    "plt.xlabel('Longueur du texte')\n",
    "plt.ylabel('Fréquence')\n",
    "plt.show()"
   ]
  },
  {
   "cell_type": "markdown",
   "id": "38a69ec1",
   "metadata": {},
   "source": [
    "### Répartition des sujets\n"
   ]
  },
  {
   "cell_type": "code",
   "execution_count": null,
   "id": "cbada99e",
   "metadata": {},
   "outputs": [
    {
     "data": {
      "image/png": "[encoded data removed]",
      "text/plain": [
       "<Figure size 1000x600 with 1 Axes>"
      ]
     },
     "metadata": {},
     "output_type": "display_data"
    }
   ],
   "source": [
    "plt.figure(figsize=(10, 6))\n",
    "data['subject'].value_counts().plot(kind='bar', color='orange', edgecolor='black')\n",
    "plt.title('Répartition des sujets')\n",
    "plt.xlabel('Sujet')\n",
    "plt.ylabel('Nombre d\\'articles')\n",
    "plt.show()"
   ]
  },
  {
   "cell_type": "markdown",
   "id": "36f92e2c",
   "metadata": {},
   "source": [
    "## Étape 2 : Prétraitement des données"
   ]
  },
  {
   "cell_type": "code",
   "execution_count": 8,
   "id": "9f58ac9e",
   "metadata": {},
   "outputs": [
    {
     "name": "stderr",
     "output_type": "stream",
     "text": [
      "[nltk_data] Downloading package stopwords to\n",
      "[nltk_data]     /Users/aminerazig/nltk_data...\n",
      "[nltk_data]   Unzipping corpora/stopwords.zip.\n",
      "[nltk_data] Downloading package wordnet to\n",
      "[nltk_data]     /Users/aminerazig/nltk_data...\n",
      "[nltk_data] Downloading package omw-1.4 to\n",
      "[nltk_data]     /Users/aminerazig/nltk_data...\n"
     ]
    },
    {
     "name": "stdout",
     "output_type": "stream",
     "text": [
      "Exemple avant nettoyage :\n",
      "Donald Trump just couldn t wish all Americans a Happy New Year and leave it at that. Instead, he had to give a shout out to his enemies, haters and  the very dishonest fake news media.  The former reality show star had just one job to do and he couldn t do it. As our Country rapidly grows stronger and smarter, I want to wish all of my friends, supporters, enemies, haters, and even the very dishonest Fake News Media, a Happy and Healthy New Year,  President Angry Pants tweeted.  2018 will be a great year for America! As our Country rapidly grows stronger and smarter, I want to wish all of my friends, supporters, enemies, haters, and even the very dishonest Fake News Media, a Happy and Healthy New Year. 2018 will be a great year for America!  Donald J. Trump (@realDonaldTrump) December 31, 2017Trump s tweet went down about as welll as you d expect.What kind of president sends a New Year s greeting like this despicable, petty, infantile gibberish? Only Trump! His lack of decency won t even allow him to rise above the gutter long enough to wish the American citizens a happy new year!  Bishop Talbert Swan (@TalbertSwan) December 31, 2017no one likes you  Calvin (@calvinstowell) December 31, 2017Your impeachment would make 2018 a great year for America, but I ll also accept regaining control of Congress.  Miranda Yaver (@mirandayaver) December 31, 2017Do you hear yourself talk? When you have to include that many people that hate you you have to wonder? Why do the they all hate me?  Alan Sandoval (@AlanSandoval13) December 31, 2017Who uses the word Haters in a New Years wish??  Marlene (@marlene399) December 31, 2017You can t just say happy new year?  Koren pollitt (@Korencarpenter) December 31, 2017Here s Trump s New Year s Eve tweet from 2016.Happy New Year to all, including to my many enemies and those who have fought me and lost so badly they just don t know what to do. Love!  Donald J. Trump (@realDonaldTrump) December 31, 2016This is nothing new for Trump. He s been doing this for years.Trump has directed messages to his  enemies  and  haters  for New Year s, Easter, Thanksgiving, and the anniversary of 9/11. pic.twitter.com/4FPAe2KypA  Daniel Dale (@ddale8) December 31, 2017Trump s holiday tweets are clearly not presidential.How long did he work at Hallmark before becoming President?  Steven Goodine (@SGoodine) December 31, 2017He s always been like this . . . the only difference is that in the last few years, his filter has been breaking down.  Roy Schulze (@thbthttt) December 31, 2017Who, apart from a teenager uses the term haters?  Wendy (@WendyWhistles) December 31, 2017he s a fucking 5 year old  Who Knows (@rainyday80) December 31, 2017So, to all the people who voted for this a hole thinking he would change once he got into power, you were wrong! 70-year-old men don t change and now he s a year older.Photo by Andrew Burton/Getty Images.\n",
      "\n",
      "Exemple après nettoyage :\n",
      "donald trump wish american happy new year leave instead give shout enemy hater dishonest fake news medium former reality show star one job country rapidly grows stronger smarter want wish friend supporter enemy hater even dishonest fake news medium happy healthy new year president angry pant tweeted great year america country rapidly grows stronger smarter want wish friend supporter enemy hater even dishonest fake news medium happy healthy new year great year america donald j trump realdonaldtrump december trump tweet went welll expectwhat kind president sends new year greeting like despicable petty infantile gibberish trump lack decency even allow rise gutter long enough wish american citizen happy new year bishop talbert swan talbertswan december one like calvin calvinstowell december impeachment would make great year america also accept regaining control congress miranda yaver mirandayaver december hear talk include many people hate wonder hate alan sandoval alansandoval december us word hater new year wish marlene marlene december say happy new year koren pollitt korencarpenter december trump new year eve tweet happy new year including many enemy fought lost badly know love donald j trump realdonaldtrump december nothing new trump yearstrump directed message enemy hater new year easter thanksgiving anniversary pictwittercomfpaekypa daniel dale ddale december trump holiday tweet clearly presidentialhow long work hallmark becoming president steven goodine sgoodine december always like difference last year filter breaking roy schulze thbthttt december apart teenager us term hater wendy wendywhistles december fucking year old know rainyday december people voted hole thinking would change got power wrong yearold men change year olderphoto andrew burtongetty image\n"
     ]
    }
   ],
   "source": [
    "import re\n",
    "import nltk\n",
    "from nltk.corpus import stopwords\n",
    "from nltk.stem import WordNetLemmatizer\n",
    "\n",
    "# Télécharger les ressources nécessaires de NLTK\n",
    "nltk.download('stopwords')\n",
    "nltk.download('wordnet')\n",
    "nltk.download('omw-1.4')\n",
    "\n",
    "# Initialiser les stopwords et le lemmatizer\n",
    "stop_words = set(stopwords.words('english'))\n",
    "lemmatizer = WordNetLemmatizer()\n",
    "\n",
    "def preprocess_text(text):\n",
    "    # Convertir en minuscules\n",
    "    text = text.lower()\n",
    "    # Supprimer les caractères spéciaux et les chiffres\n",
    "    text = re.sub(r'[^a-z\\s]', '', text)\n",
    "    # Supprimer les stopwords et appliquer la lemmatisation\n",
    "    text = ' '.join([lemmatizer.lemmatize(word) for word in text.split() if word not in stop_words])\n",
    "    return text\n",
    "\n",
    "# Appliquer le prétraitement sur les colonnes 'title' et 'text'\n",
    "data['cleaned_title'] = data['title'].apply(preprocess_text)\n",
    "data['cleaned_text'] = data['text'].apply(preprocess_text)\n",
    "\n",
    "# Afficher un exemple avant et après le nettoyage\n",
    "print(\"Exemple avant nettoyage :\")\n",
    "print(data['text'].iloc[0])\n",
    "print(\"\\nExemple après nettoyage :\")\n",
    "print(data['cleaned_text'].iloc[0])"
   ]
  },
  {
   "cell_type": "markdown",
   "id": "e63dad39",
   "metadata": {},
   "source": [
    "## Étape 3 : Représentation des textes\n",
    "#### L'objectif est de transformer les textes en une représentation numérique. On test diffrentes approches : "
   ]
  },
  {
   "cell_type": "markdown",
   "id": "972f00fb",
   "metadata": {},
   "source": [
    "**Bag Of Words** : "
   ]
  },
  {
   "cell_type": "code",
   "execution_count": 9,
   "id": "389b64bd",
   "metadata": {},
   "outputs": [
    {
     "name": "stdout",
     "output_type": "stream",
     "text": [
      "Shape of Bag of Words matrix: (44898, 5000)\n"
     ]
    }
   ],
   "source": [
    "from sklearn.feature_extraction.text import CountVectorizer\n",
    "\n",
    "# Initialiser le CountVectorizer\n",
    "bow_vectorizer = CountVectorizer(max_features=5000)  # Limiter à 5000 mots les plus fréquents\n",
    "\n",
    "# Appliquer sur les textes nettoyés\n",
    "bow_features = bow_vectorizer.fit_transform(data['cleaned_text'])\n",
    "\n",
    "# Afficher la forme de la matrice BoW\n",
    "print(\"Shape of Bag of Words matrix:\", bow_features.shape)"
   ]
  },
  {
   "cell_type": "markdown",
   "id": "d8cf5510",
   "metadata": {},
   "source": [
    "**TF-IDF**"
   ]
  },
  {
   "cell_type": "code",
   "execution_count": 10,
   "id": "91021828",
   "metadata": {},
   "outputs": [
    {
     "name": "stdout",
     "output_type": "stream",
     "text": [
      "Shape of TF-IDF matrix: (44898, 5000)\n"
     ]
    }
   ],
   "source": [
    "from sklearn.feature_extraction.text import TfidfVectorizer\n",
    "\n",
    "# Initialiser le TfidfVectorizer\n",
    "tfidf_vectorizer = TfidfVectorizer(max_features=5000)  # Limiter à 5000 mots les plus fréquents\n",
    "\n",
    "# Appliquer sur les textes nettoyés\n",
    "tfidf_features = tfidf_vectorizer.fit_transform(data['cleaned_text'])\n",
    "\n",
    "# Afficher la forme de la matrice TF-IDF\n",
    "print(\"Shape of TF-IDF matrix:\", tfidf_features.shape)"
   ]
  },
  {
   "cell_type": "markdown",
   "id": "d01c7496",
   "metadata": {},
   "source": [
    "**Word Embeddings (Word2Vec, GloVe, FastText)**"
   ]
  },
  {
   "cell_type": "code",
   "execution_count": 11,
   "id": "fa81ab26",
   "metadata": {},
   "outputs": [
    {
     "name": "stdout",
     "output_type": "stream",
     "text": [
      "Vecteur pour le mot 'news': [-1.9300112  -1.6895988  -5.084254    2.3443513   0.07802636 -3.5643716\n",
      " -1.1957338   2.0866218  -3.1034913  -5.412679    2.0342674   1.3546655\n",
      " -1.0114934   3.8268542  -1.662923   -0.31239977  0.6041016   2.308762\n",
      "  2.993785    2.6857302  -4.2535157  -2.382324    1.9397912  -1.7773602\n",
      " -0.26565522 -0.64588565  3.6594934  -2.1235178  -1.8475696   3.6766436\n",
      " -0.9772111  -2.9445734  -1.3720244  -3.490919   -1.6727751   1.9343307\n",
      " -1.3493011  -0.78515273  1.6557208   2.4545386  -2.4058259  -2.7193563\n",
      "  0.43149772  2.7518578  -0.07173821  0.8120744   0.77845144 -0.7826458\n",
      " -1.8136783  -2.2040775   4.357484    2.119593   -0.05509764 -0.3201121\n",
      "  0.21057518 -1.9341867  -0.72268265 -1.7301017   2.010585   -1.0298629\n",
      " -2.9251328  -1.8586521  -1.8637537   2.1837122   0.7694699   1.3104\n",
      "  2.0376296   2.1126606   0.8999146   2.21056    -2.2710872  -0.06661242\n",
      " -3.3797894   0.60650045  3.6454623  -0.01868471  0.34283435 -1.6146255\n",
      "  3.2327812  -4.96906     1.9230629   0.5167118  -0.32058096  0.8146664\n",
      "  1.6942697   0.62969327  0.7496122  -0.92752004  5.443876    2.1976702\n",
      " -4.1935744  -2.4890647   2.1385024  -2.6179543   0.83879775 -1.0696365\n",
      "  0.14633587 -2.909671    3.9412603  -0.7914624 ]\n"
     ]
    }
   ],
   "source": [
    "from gensim.models import Word2Vec\n",
    "\n",
    "# Tokeniser les textes nettoyés\n",
    "tokenized_texts = data['cleaned_text'].apply(lambda x: x.split())\n",
    "\n",
    "# Entraîner un modèle Word2Vec\n",
    "word2vec_model = Word2Vec(sentences=tokenized_texts, vector_size=100, window=5, min_count=1, workers=4)\n",
    "\n",
    "# Exemple : Obtenir le vecteur pour un mot\n",
    "print(\"Vecteur pour le mot 'news':\", word2vec_model.wv['news'])"
   ]
  },
  {
   "cell_type": "markdown",
   "id": "91567f9a",
   "metadata": {},
   "source": [
    "**Sentence Embeddings (BERT, RoBERTa)**"
   ]
  },
  {
   "cell_type": "code",
   "execution_count": 12,
   "id": "6f4c4392",
   "metadata": {},
   "outputs": [
    {
     "name": "stderr",
     "output_type": "stream",
     "text": [
      "/Users/aminerazig/anaconda3/lib/python3.11/site-packages/transformers/utils/generic.py:260: UserWarning: torch.utils._pytree._register_pytree_node is deprecated. Please use torch.utils._pytree.register_pytree_node instead.\n",
      "  torch.utils._pytree._register_pytree_node(\n"
     ]
    },
    {
     "name": "stdout",
     "output_type": "stream",
     "text": [
      "Shape of BERT embeddings: torch.Size([1, 351, 768])\n"
     ]
    }
   ],
   "source": [
    "from transformers import BertTokenizer, BertModel\n",
    "import torch\n",
    "\n",
    "# Charger le tokenizer et le modèle BERT\n",
    "tokenizer = BertTokenizer.from_pretrained('bert-base-uncased')\n",
    "bert_model = BertModel.from_pretrained('bert-base-uncased')\n",
    "\n",
    "# Tokeniser un exemple de texte\n",
    "example_text = data['cleaned_text'].iloc[0]\n",
    "tokens = tokenizer(example_text, return_tensors='pt', truncation=True, padding=True, max_length=512)\n",
    "\n",
    "# Obtenir les embeddings\n",
    "with torch.no_grad():\n",
    "    embeddings = bert_model(**tokens)\n",
    "\n",
    "# Afficher la forme des embeddings\n",
    "print(\"Shape of BERT embeddings:\", embeddings.last_hidden_state.shape)"
   ]
  },
  {
   "cell_type": "markdown",
   "id": "f845ef8f",
   "metadata": {},
   "source": [
    "## Étape 4 : Modélisation classique\n",
    "Objectif : Utiliser des modèles de machine learning classiques pour classifier les textes."
   ]
  },
  {
   "cell_type": "code",
   "execution_count": 13,
   "id": "77f8ce15",
   "metadata": {},
   "outputs": [
    {
     "name": "stdout",
     "output_type": "stream",
     "text": [
      "Taille de l'ensemble d'entraînement : (35918, 5000)\n",
      "Taille de l'ensemble de test : (8980, 5000)\n"
     ]
    }
   ],
   "source": [
    "from sklearn.model_selection import train_test_split\n",
    "\n",
    "# Diviser les données en ensembles d'entraînement et de test\n",
    "X = tfidf_features  # Utilisez TF-IDF ou une autre représentation\n",
    "y = data['label']   # La colonne des étiquettes ('fake' ou 'true')\n",
    "\n",
    "# Encodage des étiquettes en valeurs numériques\n",
    "from sklearn.preprocessing import LabelEncoder\n",
    "label_encoder = LabelEncoder()\n",
    "y = label_encoder.fit_transform(y)\n",
    "\n",
    "# Division des données\n",
    "X_train, X_test, y_train, y_test = train_test_split(X, y, test_size=0.2, random_state=42)\n",
    "\n",
    "print(\"Taille de l'ensemble d'entraînement :\", X_train.shape)\n",
    "print(\"Taille de l'ensemble de test :\", X_test.shape)"
   ]
  },
  {
   "cell_type": "code",
   "execution_count": 14,
   "id": "12d74eaa",
   "metadata": {},
   "outputs": [
    {
     "name": "stdout",
     "output_type": "stream",
     "text": [
      "Logistic Regression Accuracy: 0.9878619153674832\n",
      "\n",
      "Classification Report:\n",
      "               precision    recall  f1-score   support\n",
      "\n",
      "           0       0.99      0.99      0.99      4733\n",
      "           1       0.99      0.99      0.99      4247\n",
      "\n",
      "    accuracy                           0.99      8980\n",
      "   macro avg       0.99      0.99      0.99      8980\n",
      "weighted avg       0.99      0.99      0.99      8980\n",
      "\n"
     ]
    }
   ],
   "source": [
    "from sklearn.linear_model import LogisticRegression\n",
    "from sklearn.metrics import classification_report, accuracy_score\n",
    "\n",
    "# Initialiser et entraîner le modèle\n",
    "logistic_model = LogisticRegression(max_iter=1000)\n",
    "logistic_model.fit(X_train, y_train)\n",
    "\n",
    "# Prédictions\n",
    "y_pred = logistic_model.predict(X_test)\n",
    "\n",
    "# Évaluation\n",
    "print(\"Logistic Regression Accuracy:\", accuracy_score(y_test, y_pred))\n",
    "print(\"\\nClassification Report:\\n\", classification_report(y_test, y_pred))"
   ]
  },
  {
   "cell_type": "code",
   "execution_count": 15,
   "id": "8102d34c",
   "metadata": {},
   "outputs": [
    {
     "name": "stdout",
     "output_type": "stream",
     "text": [
      "Naive Bayes Accuracy: 0.9288418708240535\n",
      "\n",
      "Classification Report:\n",
      "               precision    recall  f1-score   support\n",
      "\n",
      "           0       0.93      0.94      0.93      4733\n",
      "           1       0.93      0.92      0.92      4247\n",
      "\n",
      "    accuracy                           0.93      8980\n",
      "   macro avg       0.93      0.93      0.93      8980\n",
      "weighted avg       0.93      0.93      0.93      8980\n",
      "\n"
     ]
    }
   ],
   "source": [
    "from sklearn.naive_bayes import MultinomialNB\n",
    "\n",
    "# Initialiser et entraîner le modèle\n",
    "nb_model = MultinomialNB()\n",
    "nb_model.fit(X_train, y_train)\n",
    "\n",
    "# Prédictions\n",
    "y_pred = nb_model.predict(X_test)\n",
    "\n",
    "# Évaluation\n",
    "print(\"Naive Bayes Accuracy:\", accuracy_score(y_test, y_pred))\n",
    "print(\"\\nClassification Report:\\n\", classification_report(y_test, y_pred))"
   ]
  },
  {
   "cell_type": "code",
   "execution_count": 16,
   "id": "81785532",
   "metadata": {},
   "outputs": [
    {
     "name": "stdout",
     "output_type": "stream",
     "text": [
      "SVM Accuracy: 0.9947661469933184\n",
      "\n",
      "Classification Report:\n",
      "               precision    recall  f1-score   support\n",
      "\n",
      "           0       1.00      0.99      1.00      4733\n",
      "           1       0.99      1.00      0.99      4247\n",
      "\n",
      "    accuracy                           0.99      8980\n",
      "   macro avg       0.99      0.99      0.99      8980\n",
      "weighted avg       0.99      0.99      0.99      8980\n",
      "\n"
     ]
    }
   ],
   "source": [
    "from sklearn.svm import LinearSVC\n",
    "\n",
    "# Initialiser et entraîner le modèle\n",
    "svm_model = LinearSVC()\n",
    "svm_model.fit(X_train, y_train)\n",
    "\n",
    "# Prédictions\n",
    "y_pred = svm_model.predict(X_test)\n",
    "\n",
    "# Évaluation\n",
    "print(\"SVM Accuracy:\", accuracy_score(y_test, y_pred))\n",
    "print(\"\\nClassification Report:\\n\", classification_report(y_test, y_pred))"
   ]
  },
  {
   "cell_type": "code",
   "execution_count": 17,
   "id": "7abcb6ea",
   "metadata": {},
   "outputs": [
    {
     "name": "stdout",
     "output_type": "stream",
     "text": [
      "Random Forest Accuracy: 0.9975501113585746\n",
      "\n",
      "Classification Report:\n",
      "               precision    recall  f1-score   support\n",
      "\n",
      "           0       1.00      1.00      1.00      4733\n",
      "           1       1.00      1.00      1.00      4247\n",
      "\n",
      "    accuracy                           1.00      8980\n",
      "   macro avg       1.00      1.00      1.00      8980\n",
      "weighted avg       1.00      1.00      1.00      8980\n",
      "\n"
     ]
    }
   ],
   "source": [
    "from sklearn.ensemble import RandomForestClassifier\n",
    "\n",
    "# Initialiser et entraîner le modèle\n",
    "rf_model = RandomForestClassifier(n_estimators=100, random_state=42)\n",
    "rf_model.fit(X_train, y_train)\n",
    "\n",
    "# Prédictions\n",
    "y_pred = rf_model.predict(X_test)\n",
    "\n",
    "# Évaluation\n",
    "print(\"Random Forest Accuracy:\", accuracy_score(y_test, y_pred))\n",
    "print(\"\\nClassification Report:\\n\", classification_report(y_test, y_pred))"
   ]
  }
 ],
 "metadata": {
  "kernelspec": {
   "display_name": "base",
   "language": "python",
   "name": "python3"
  },
  "language_info": {
   "codemirror_mode": {
    "name": "ipython",
    "version": 3
   },
   "file_extension": ".py",
   "mimetype": "text/x-python",
   "name": "python",
   "nbconvert_exporter": "python",
   "pygments_lexer": "ipython3",
   "version": "3.11.5"
  }
 },
 "nbformat": 4,
 "nbformat_minor": 5
}
